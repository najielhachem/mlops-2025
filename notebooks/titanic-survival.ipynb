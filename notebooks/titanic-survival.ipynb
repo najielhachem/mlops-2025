{
 "cells": [
  {
   "cell_type": "markdown",
   "id": "1f6ee37f",
   "metadata": {},
   "source": [
    "# Intro\n",
    "\n",
    "This notebook was taken from kaggle and updated for the puprose of the MLOps course.\n",
    "\n",
    "* Source notbebook: https://www.kaggle.com/code/abhishek0032/titanic-survival-prediction-feature-engineering/notebook\n",
    "* Datasets: https://www.kaggle.com/competitions/titanic/data\n",
    "\n",
    "In this lab, you need to:\n",
    "1. Run this notebook and understand it\n",
    "2. Transform it into scripts\n",
    "3. Move code into classes and use them in scripts"
   ]
  },
  {
   "cell_type": "code",
   "execution_count": 1,
   "id": "d48a2604",
   "metadata": {
    "execution": {
     "iopub.execute_input": "2025-03-30T16:23:58.503476Z",
     "iopub.status.busy": "2025-03-30T16:23:58.502469Z",
     "iopub.status.idle": "2025-03-30T16:24:00.142678Z",
     "shell.execute_reply": "2025-03-30T16:24:00.141760Z"
    },
    "papermill": {
     "duration": 1.663987,
     "end_time": "2025-03-30T16:24:00.145215",
     "exception": false,
     "start_time": "2025-03-30T16:23:58.481228",
     "status": "completed"
    },
    "tags": []
   },
   "outputs": [],
   "source": [
    "import numpy as np\n",
    "import pandas as pd\n",
    "import matplotlib.pyplot as plt\n",
    "import seaborn as sns\n",
    "import warnings\n",
    "\n",
    "# Ignore all warnings\n",
    "warnings.filterwarnings(\"ignore\")"
   ]
  },
  {
   "cell_type": "code",
   "execution_count": 2,
   "id": "d6ec12a5",
   "metadata": {
    "execution": {
     "iopub.execute_input": "2025-03-30T16:24:00.171384Z",
     "iopub.status.busy": "2025-03-30T16:24:00.171008Z",
     "iopub.status.idle": "2025-03-30T16:24:00.202828Z",
     "shell.execute_reply": "2025-03-30T16:24:00.201602Z"
    },
    "papermill": {
     "duration": 0.048336,
     "end_time": "2025-03-30T16:24:00.205491",
     "exception": false,
     "start_time": "2025-03-30T16:24:00.157155",
     "status": "completed"
    },
    "tags": []
   },
   "outputs": [],
   "source": [
    "train=pd.read_csv('../data/titanic/train.csv')\n",
    "test=pd.read_csv('../data/titanic/test.csv')"
   ]
  },
  {
   "cell_type": "code",
   "execution_count": 3,
   "id": "6b75b6fa",
   "metadata": {
    "execution": {
     "iopub.execute_input": "2025-03-30T16:24:00.230639Z",
     "iopub.status.busy": "2025-03-30T16:24:00.230281Z",
     "iopub.status.idle": "2025-03-30T16:24:00.235897Z",
     "shell.execute_reply": "2025-03-30T16:24:00.234805Z"
    },
    "papermill": {
     "duration": 0.020634,
     "end_time": "2025-03-30T16:24:00.238031",
     "exception": false,
     "start_time": "2025-03-30T16:24:00.217397",
     "status": "completed"
    },
    "tags": []
   },
   "outputs": [
    {
     "name": "stdout",
     "output_type": "stream",
     "text": [
      "(891, 12)\n",
      "(418, 11)\n"
     ]
    }
   ],
   "source": [
    "print(train.shape)\n",
    "print(test.shape)"
   ]
  },
  {
   "cell_type": "markdown",
   "id": "bb18f800",
   "metadata": {
    "papermill": {
     "duration": 0.012227,
     "end_time": "2025-03-30T16:24:00.262466",
     "exception": false,
     "start_time": "2025-03-30T16:24:00.250239",
     "status": "completed"
    },
    "tags": []
   },
   "source": [
    "## Data Cleaning"
   ]
  },
  {
   "cell_type": "code",
   "execution_count": 4,
   "id": "d3370367",
   "metadata": {
    "execution": {
     "iopub.execute_input": "2025-03-30T16:24:00.288499Z",
     "iopub.status.busy": "2025-03-30T16:24:00.288118Z",
     "iopub.status.idle": "2025-03-30T16:24:00.327797Z",
     "shell.execute_reply": "2025-03-30T16:24:00.326581Z"
    },
    "papermill": {
     "duration": 0.055485,
     "end_time": "2025-03-30T16:24:00.330017",
     "exception": false,
     "start_time": "2025-03-30T16:24:00.274532",
     "status": "completed"
    },
    "tags": []
   },
   "outputs": [
    {
     "name": "stdout",
     "output_type": "stream",
     "text": [
      "<class 'pandas.core.frame.DataFrame'>\n",
      "RangeIndex: 418 entries, 0 to 417\n",
      "Data columns (total 11 columns):\n",
      " #   Column       Non-Null Count  Dtype  \n",
      "---  ------       --------------  -----  \n",
      " 0   PassengerId  418 non-null    int64  \n",
      " 1   Pclass       418 non-null    int64  \n",
      " 2   Name         418 non-null    object \n",
      " 3   Sex          418 non-null    object \n",
      " 4   Age          332 non-null    float64\n",
      " 5   SibSp        418 non-null    int64  \n",
      " 6   Parch        418 non-null    int64  \n",
      " 7   Ticket       418 non-null    object \n",
      " 8   Fare         417 non-null    float64\n",
      " 9   Cabin        91 non-null     object \n",
      " 10  Embarked     418 non-null    object \n",
      "dtypes: float64(2), int64(4), object(5)\n",
      "memory usage: 36.1+ KB\n",
      "<class 'pandas.core.frame.DataFrame'>\n",
      "RangeIndex: 891 entries, 0 to 890\n",
      "Data columns (total 12 columns):\n",
      " #   Column       Non-Null Count  Dtype  \n",
      "---  ------       --------------  -----  \n",
      " 0   PassengerId  891 non-null    int64  \n",
      " 1   Survived     891 non-null    int64  \n",
      " 2   Pclass       891 non-null    int64  \n",
      " 3   Name         891 non-null    object \n",
      " 4   Sex          891 non-null    object \n",
      " 5   Age          714 non-null    float64\n",
      " 6   SibSp        891 non-null    int64  \n",
      " 7   Parch        891 non-null    int64  \n",
      " 8   Ticket       891 non-null    object \n",
      " 9   Fare         891 non-null    float64\n",
      " 10  Cabin        204 non-null    object \n",
      " 11  Embarked     889 non-null    object \n",
      "dtypes: float64(2), int64(5), object(5)\n",
      "memory usage: 83.7+ KB\n"
     ]
    },
    {
     "data": {
      "text/plain": [
       "(None, None)"
      ]
     },
     "execution_count": 4,
     "metadata": {},
     "output_type": "execute_result"
    }
   ],
   "source": [
    "test.info(),train.info()"
   ]
  },
  {
   "cell_type": "code",
   "execution_count": 5,
   "id": "794adf28",
   "metadata": {
    "execution": {
     "iopub.execute_input": "2025-03-30T16:24:00.356837Z",
     "iopub.status.busy": "2025-03-30T16:24:00.356450Z",
     "iopub.status.idle": "2025-03-30T16:24:00.384431Z",
     "shell.execute_reply": "2025-03-30T16:24:00.383284Z"
    },
    "papermill": {
     "duration": 0.043765,
     "end_time": "2025-03-30T16:24:00.386540",
     "exception": false,
     "start_time": "2025-03-30T16:24:00.342775",
     "status": "completed"
    },
    "tags": []
   },
   "outputs": [
    {
     "data": {
      "text/html": [
       "<div>\n",
       "<style scoped>\n",
       "    .dataframe tbody tr th:only-of-type {\n",
       "        vertical-align: middle;\n",
       "    }\n",
       "\n",
       "    .dataframe tbody tr th {\n",
       "        vertical-align: top;\n",
       "    }\n",
       "\n",
       "    .dataframe thead th {\n",
       "        text-align: right;\n",
       "    }\n",
       "</style>\n",
       "<table border=\"1\" class=\"dataframe\">\n",
       "  <thead>\n",
       "    <tr style=\"text-align: right;\">\n",
       "      <th></th>\n",
       "      <th>PassengerId</th>\n",
       "      <th>Survived</th>\n",
       "      <th>Pclass</th>\n",
       "      <th>Name</th>\n",
       "      <th>Sex</th>\n",
       "      <th>Age</th>\n",
       "      <th>SibSp</th>\n",
       "      <th>Parch</th>\n",
       "      <th>Ticket</th>\n",
       "      <th>Fare</th>\n",
       "      <th>Cabin</th>\n",
       "      <th>Embarked</th>\n",
       "    </tr>\n",
       "  </thead>\n",
       "  <tbody>\n",
       "    <tr>\n",
       "      <th>60</th>\n",
       "      <td>61</td>\n",
       "      <td>0</td>\n",
       "      <td>3</td>\n",
       "      <td>Sirayanian, Mr. Orsen</td>\n",
       "      <td>male</td>\n",
       "      <td>22.0</td>\n",
       "      <td>0</td>\n",
       "      <td>0</td>\n",
       "      <td>2669</td>\n",
       "      <td>7.2292</td>\n",
       "      <td>NaN</td>\n",
       "      <td>C</td>\n",
       "    </tr>\n",
       "    <tr>\n",
       "      <th>247</th>\n",
       "      <td>248</td>\n",
       "      <td>1</td>\n",
       "      <td>2</td>\n",
       "      <td>Hamalainen, Mrs. William (Anna)</td>\n",
       "      <td>female</td>\n",
       "      <td>24.0</td>\n",
       "      <td>0</td>\n",
       "      <td>2</td>\n",
       "      <td>250649</td>\n",
       "      <td>14.5000</td>\n",
       "      <td>NaN</td>\n",
       "      <td>S</td>\n",
       "    </tr>\n",
       "    <tr>\n",
       "      <th>238</th>\n",
       "      <td>239</td>\n",
       "      <td>0</td>\n",
       "      <td>2</td>\n",
       "      <td>Pengelly, Mr. Frederick William</td>\n",
       "      <td>male</td>\n",
       "      <td>19.0</td>\n",
       "      <td>0</td>\n",
       "      <td>0</td>\n",
       "      <td>28665</td>\n",
       "      <td>10.5000</td>\n",
       "      <td>NaN</td>\n",
       "      <td>S</td>\n",
       "    </tr>\n",
       "    <tr>\n",
       "      <th>703</th>\n",
       "      <td>704</td>\n",
       "      <td>0</td>\n",
       "      <td>3</td>\n",
       "      <td>Gallagher, Mr. Martin</td>\n",
       "      <td>male</td>\n",
       "      <td>25.0</td>\n",
       "      <td>0</td>\n",
       "      <td>0</td>\n",
       "      <td>36864</td>\n",
       "      <td>7.7417</td>\n",
       "      <td>NaN</td>\n",
       "      <td>Q</td>\n",
       "    </tr>\n",
       "    <tr>\n",
       "      <th>245</th>\n",
       "      <td>246</td>\n",
       "      <td>0</td>\n",
       "      <td>1</td>\n",
       "      <td>Minahan, Dr. William Edward</td>\n",
       "      <td>male</td>\n",
       "      <td>44.0</td>\n",
       "      <td>2</td>\n",
       "      <td>0</td>\n",
       "      <td>19928</td>\n",
       "      <td>90.0000</td>\n",
       "      <td>C78</td>\n",
       "      <td>Q</td>\n",
       "    </tr>\n",
       "    <tr>\n",
       "      <th>56</th>\n",
       "      <td>57</td>\n",
       "      <td>1</td>\n",
       "      <td>2</td>\n",
       "      <td>Rugg, Miss. Emily</td>\n",
       "      <td>female</td>\n",
       "      <td>21.0</td>\n",
       "      <td>0</td>\n",
       "      <td>0</td>\n",
       "      <td>C.A. 31026</td>\n",
       "      <td>10.5000</td>\n",
       "      <td>NaN</td>\n",
       "      <td>S</td>\n",
       "    </tr>\n",
       "    <tr>\n",
       "      <th>451</th>\n",
       "      <td>452</td>\n",
       "      <td>0</td>\n",
       "      <td>3</td>\n",
       "      <td>Hagland, Mr. Ingvald Olai Olsen</td>\n",
       "      <td>male</td>\n",
       "      <td>NaN</td>\n",
       "      <td>1</td>\n",
       "      <td>0</td>\n",
       "      <td>65303</td>\n",
       "      <td>19.9667</td>\n",
       "      <td>NaN</td>\n",
       "      <td>S</td>\n",
       "    </tr>\n",
       "    <tr>\n",
       "      <th>28</th>\n",
       "      <td>29</td>\n",
       "      <td>1</td>\n",
       "      <td>3</td>\n",
       "      <td>O'Dwyer, Miss. Ellen \"Nellie\"</td>\n",
       "      <td>female</td>\n",
       "      <td>NaN</td>\n",
       "      <td>0</td>\n",
       "      <td>0</td>\n",
       "      <td>330959</td>\n",
       "      <td>7.8792</td>\n",
       "      <td>NaN</td>\n",
       "      <td>Q</td>\n",
       "    </tr>\n",
       "    <tr>\n",
       "      <th>47</th>\n",
       "      <td>48</td>\n",
       "      <td>1</td>\n",
       "      <td>3</td>\n",
       "      <td>O'Driscoll, Miss. Bridget</td>\n",
       "      <td>female</td>\n",
       "      <td>NaN</td>\n",
       "      <td>0</td>\n",
       "      <td>0</td>\n",
       "      <td>14311</td>\n",
       "      <td>7.7500</td>\n",
       "      <td>NaN</td>\n",
       "      <td>Q</td>\n",
       "    </tr>\n",
       "    <tr>\n",
       "      <th>492</th>\n",
       "      <td>493</td>\n",
       "      <td>0</td>\n",
       "      <td>1</td>\n",
       "      <td>Molson, Mr. Harry Markland</td>\n",
       "      <td>male</td>\n",
       "      <td>55.0</td>\n",
       "      <td>0</td>\n",
       "      <td>0</td>\n",
       "      <td>113787</td>\n",
       "      <td>30.5000</td>\n",
       "      <td>C30</td>\n",
       "      <td>S</td>\n",
       "    </tr>\n",
       "    <tr>\n",
       "      <th>168</th>\n",
       "      <td>169</td>\n",
       "      <td>0</td>\n",
       "      <td>1</td>\n",
       "      <td>Baumann, Mr. John D</td>\n",
       "      <td>male</td>\n",
       "      <td>NaN</td>\n",
       "      <td>0</td>\n",
       "      <td>0</td>\n",
       "      <td>PC 17318</td>\n",
       "      <td>25.9250</td>\n",
       "      <td>NaN</td>\n",
       "      <td>S</td>\n",
       "    </tr>\n",
       "    <tr>\n",
       "      <th>538</th>\n",
       "      <td>539</td>\n",
       "      <td>0</td>\n",
       "      <td>3</td>\n",
       "      <td>Risien, Mr. Samuel Beard</td>\n",
       "      <td>male</td>\n",
       "      <td>NaN</td>\n",
       "      <td>0</td>\n",
       "      <td>0</td>\n",
       "      <td>364498</td>\n",
       "      <td>14.5000</td>\n",
       "      <td>NaN</td>\n",
       "      <td>S</td>\n",
       "    </tr>\n",
       "    <tr>\n",
       "      <th>376</th>\n",
       "      <td>377</td>\n",
       "      <td>1</td>\n",
       "      <td>3</td>\n",
       "      <td>Landergren, Miss. Aurora Adelia</td>\n",
       "      <td>female</td>\n",
       "      <td>22.0</td>\n",
       "      <td>0</td>\n",
       "      <td>0</td>\n",
       "      <td>C 7077</td>\n",
       "      <td>7.2500</td>\n",
       "      <td>NaN</td>\n",
       "      <td>S</td>\n",
       "    </tr>\n",
       "    <tr>\n",
       "      <th>145</th>\n",
       "      <td>146</td>\n",
       "      <td>0</td>\n",
       "      <td>2</td>\n",
       "      <td>Nicholls, Mr. Joseph Charles</td>\n",
       "      <td>male</td>\n",
       "      <td>19.0</td>\n",
       "      <td>1</td>\n",
       "      <td>1</td>\n",
       "      <td>C.A. 33112</td>\n",
       "      <td>36.7500</td>\n",
       "      <td>NaN</td>\n",
       "      <td>S</td>\n",
       "    </tr>\n",
       "    <tr>\n",
       "      <th>164</th>\n",
       "      <td>165</td>\n",
       "      <td>0</td>\n",
       "      <td>3</td>\n",
       "      <td>Panula, Master. Eino Viljami</td>\n",
       "      <td>male</td>\n",
       "      <td>1.0</td>\n",
       "      <td>4</td>\n",
       "      <td>1</td>\n",
       "      <td>3101295</td>\n",
       "      <td>39.6875</td>\n",
       "      <td>NaN</td>\n",
       "      <td>S</td>\n",
       "    </tr>\n",
       "    <tr>\n",
       "      <th>398</th>\n",
       "      <td>399</td>\n",
       "      <td>0</td>\n",
       "      <td>2</td>\n",
       "      <td>Pain, Dr. Alfred</td>\n",
       "      <td>male</td>\n",
       "      <td>23.0</td>\n",
       "      <td>0</td>\n",
       "      <td>0</td>\n",
       "      <td>244278</td>\n",
       "      <td>10.5000</td>\n",
       "      <td>NaN</td>\n",
       "      <td>S</td>\n",
       "    </tr>\n",
       "    <tr>\n",
       "      <th>723</th>\n",
       "      <td>724</td>\n",
       "      <td>0</td>\n",
       "      <td>2</td>\n",
       "      <td>Hodges, Mr. Henry Price</td>\n",
       "      <td>male</td>\n",
       "      <td>50.0</td>\n",
       "      <td>0</td>\n",
       "      <td>0</td>\n",
       "      <td>250643</td>\n",
       "      <td>13.0000</td>\n",
       "      <td>NaN</td>\n",
       "      <td>S</td>\n",
       "    </tr>\n",
       "    <tr>\n",
       "      <th>359</th>\n",
       "      <td>360</td>\n",
       "      <td>1</td>\n",
       "      <td>3</td>\n",
       "      <td>Mockler, Miss. Helen Mary \"Ellie\"</td>\n",
       "      <td>female</td>\n",
       "      <td>NaN</td>\n",
       "      <td>0</td>\n",
       "      <td>0</td>\n",
       "      <td>330980</td>\n",
       "      <td>7.8792</td>\n",
       "      <td>NaN</td>\n",
       "      <td>Q</td>\n",
       "    </tr>\n",
       "    <tr>\n",
       "      <th>373</th>\n",
       "      <td>374</td>\n",
       "      <td>0</td>\n",
       "      <td>1</td>\n",
       "      <td>Ringhini, Mr. Sante</td>\n",
       "      <td>male</td>\n",
       "      <td>22.0</td>\n",
       "      <td>0</td>\n",
       "      <td>0</td>\n",
       "      <td>PC 17760</td>\n",
       "      <td>135.6333</td>\n",
       "      <td>NaN</td>\n",
       "      <td>C</td>\n",
       "    </tr>\n",
       "    <tr>\n",
       "      <th>726</th>\n",
       "      <td>727</td>\n",
       "      <td>1</td>\n",
       "      <td>2</td>\n",
       "      <td>Renouf, Mrs. Peter Henry (Lillian Jefferys)</td>\n",
       "      <td>female</td>\n",
       "      <td>30.0</td>\n",
       "      <td>3</td>\n",
       "      <td>0</td>\n",
       "      <td>31027</td>\n",
       "      <td>21.0000</td>\n",
       "      <td>NaN</td>\n",
       "      <td>S</td>\n",
       "    </tr>\n",
       "  </tbody>\n",
       "</table>\n",
       "</div>"
      ],
      "text/plain": [
       "     PassengerId  Survived  Pclass  \\\n",
       "60            61         0       3   \n",
       "247          248         1       2   \n",
       "238          239         0       2   \n",
       "703          704         0       3   \n",
       "245          246         0       1   \n",
       "56            57         1       2   \n",
       "451          452         0       3   \n",
       "28            29         1       3   \n",
       "47            48         1       3   \n",
       "492          493         0       1   \n",
       "168          169         0       1   \n",
       "538          539         0       3   \n",
       "376          377         1       3   \n",
       "145          146         0       2   \n",
       "164          165         0       3   \n",
       "398          399         0       2   \n",
       "723          724         0       2   \n",
       "359          360         1       3   \n",
       "373          374         0       1   \n",
       "726          727         1       2   \n",
       "\n",
       "                                            Name     Sex   Age  SibSp  Parch  \\\n",
       "60                         Sirayanian, Mr. Orsen    male  22.0      0      0   \n",
       "247              Hamalainen, Mrs. William (Anna)  female  24.0      0      2   \n",
       "238              Pengelly, Mr. Frederick William    male  19.0      0      0   \n",
       "703                        Gallagher, Mr. Martin    male  25.0      0      0   \n",
       "245                  Minahan, Dr. William Edward    male  44.0      2      0   \n",
       "56                             Rugg, Miss. Emily  female  21.0      0      0   \n",
       "451              Hagland, Mr. Ingvald Olai Olsen    male   NaN      1      0   \n",
       "28                 O'Dwyer, Miss. Ellen \"Nellie\"  female   NaN      0      0   \n",
       "47                     O'Driscoll, Miss. Bridget  female   NaN      0      0   \n",
       "492                   Molson, Mr. Harry Markland    male  55.0      0      0   \n",
       "168                          Baumann, Mr. John D    male   NaN      0      0   \n",
       "538                     Risien, Mr. Samuel Beard    male   NaN      0      0   \n",
       "376              Landergren, Miss. Aurora Adelia  female  22.0      0      0   \n",
       "145                 Nicholls, Mr. Joseph Charles    male  19.0      1      1   \n",
       "164                 Panula, Master. Eino Viljami    male   1.0      4      1   \n",
       "398                             Pain, Dr. Alfred    male  23.0      0      0   \n",
       "723                      Hodges, Mr. Henry Price    male  50.0      0      0   \n",
       "359            Mockler, Miss. Helen Mary \"Ellie\"  female   NaN      0      0   \n",
       "373                          Ringhini, Mr. Sante    male  22.0      0      0   \n",
       "726  Renouf, Mrs. Peter Henry (Lillian Jefferys)  female  30.0      3      0   \n",
       "\n",
       "         Ticket      Fare Cabin Embarked  \n",
       "60         2669    7.2292   NaN        C  \n",
       "247      250649   14.5000   NaN        S  \n",
       "238       28665   10.5000   NaN        S  \n",
       "703       36864    7.7417   NaN        Q  \n",
       "245       19928   90.0000   C78        Q  \n",
       "56   C.A. 31026   10.5000   NaN        S  \n",
       "451       65303   19.9667   NaN        S  \n",
       "28       330959    7.8792   NaN        Q  \n",
       "47        14311    7.7500   NaN        Q  \n",
       "492      113787   30.5000   C30        S  \n",
       "168    PC 17318   25.9250   NaN        S  \n",
       "538      364498   14.5000   NaN        S  \n",
       "376      C 7077    7.2500   NaN        S  \n",
       "145  C.A. 33112   36.7500   NaN        S  \n",
       "164     3101295   39.6875   NaN        S  \n",
       "398      244278   10.5000   NaN        S  \n",
       "723      250643   13.0000   NaN        S  \n",
       "359      330980    7.8792   NaN        Q  \n",
       "373    PC 17760  135.6333   NaN        C  \n",
       "726       31027   21.0000   NaN        S  "
      ]
     },
     "execution_count": 5,
     "metadata": {},
     "output_type": "execute_result"
    }
   ],
   "source": [
    "train.sample(20)"
   ]
  },
  {
   "cell_type": "markdown",
   "id": "878cac68",
   "metadata": {
    "papermill": {
     "duration": 0.012351,
     "end_time": "2025-03-30T16:24:00.411387",
     "exception": false,
     "start_time": "2025-03-30T16:24:00.399036",
     "status": "completed"
    },
    "tags": []
   },
   "source": [
    "### Handling Null Values\n",
    "\n",
    "The 'Cabin' column contains numerous null values, so we will drop it.\n",
    "\n"
   ]
  },
  {
   "cell_type": "code",
   "execution_count": 6,
   "id": "15dc8483",
   "metadata": {
    "execution": {
     "iopub.execute_input": "2025-03-30T16:24:00.438460Z",
     "iopub.status.busy": "2025-03-30T16:24:00.438107Z",
     "iopub.status.idle": "2025-03-30T16:24:00.446901Z",
     "shell.execute_reply": "2025-03-30T16:24:00.445781Z"
    },
    "papermill": {
     "duration": 0.025335,
     "end_time": "2025-03-30T16:24:00.449437",
     "exception": false,
     "start_time": "2025-03-30T16:24:00.424102",
     "status": "completed"
    },
    "tags": []
   },
   "outputs": [],
   "source": [
    "train.drop(columns=['Cabin'],inplace=True)\n",
    "test.drop(columns=['Cabin'],inplace=True)"
   ]
  },
  {
   "cell_type": "code",
   "execution_count": 7,
   "id": "f64dc58d",
   "metadata": {
    "execution": {
     "iopub.execute_input": "2025-03-30T16:24:00.476401Z",
     "iopub.status.busy": "2025-03-30T16:24:00.476023Z",
     "iopub.status.idle": "2025-03-30T16:24:00.484541Z",
     "shell.execute_reply": "2025-03-30T16:24:00.483525Z"
    },
    "papermill": {
     "duration": 0.024528,
     "end_time": "2025-03-30T16:24:00.486497",
     "exception": false,
     "start_time": "2025-03-30T16:24:00.461969",
     "status": "completed"
    },
    "tags": []
   },
   "outputs": [
    {
     "data": {
      "text/plain": [
       "PassengerId      0\n",
       "Survived         0\n",
       "Pclass           0\n",
       "Name             0\n",
       "Sex              0\n",
       "Age            177\n",
       "SibSp            0\n",
       "Parch            0\n",
       "Ticket           0\n",
       "Fare             0\n",
       "Embarked         2\n",
       "dtype: int64"
      ]
     },
     "execution_count": 7,
     "metadata": {},
     "output_type": "execute_result"
    }
   ],
   "source": [
    "train.isnull().sum()\n"
   ]
  },
  {
   "cell_type": "code",
   "execution_count": 8,
   "id": "00c9b8d9",
   "metadata": {
    "execution": {
     "iopub.execute_input": "2025-03-30T16:24:00.514658Z",
     "iopub.status.busy": "2025-03-30T16:24:00.514315Z",
     "iopub.status.idle": "2025-03-30T16:24:00.522820Z",
     "shell.execute_reply": "2025-03-30T16:24:00.521754Z"
    },
    "papermill": {
     "duration": 0.025907,
     "end_time": "2025-03-30T16:24:00.524929",
     "exception": false,
     "start_time": "2025-03-30T16:24:00.499022",
     "status": "completed"
    },
    "tags": []
   },
   "outputs": [
    {
     "data": {
      "text/plain": [
       "PassengerId     0\n",
       "Pclass          0\n",
       "Name            0\n",
       "Sex             0\n",
       "Age            86\n",
       "SibSp           0\n",
       "Parch           0\n",
       "Ticket          0\n",
       "Fare            1\n",
       "Embarked        0\n",
       "dtype: int64"
      ]
     },
     "execution_count": 8,
     "metadata": {},
     "output_type": "execute_result"
    }
   ],
   "source": [
    "test.isnull().sum()"
   ]
  },
  {
   "cell_type": "code",
   "execution_count": 9,
   "id": "a0966733",
   "metadata": {
    "execution": {
     "iopub.execute_input": "2025-03-30T16:24:00.552908Z",
     "iopub.status.busy": "2025-03-30T16:24:00.552512Z",
     "iopub.status.idle": "2025-03-30T16:24:00.558540Z",
     "shell.execute_reply": "2025-03-30T16:24:00.557611Z"
    },
    "papermill": {
     "duration": 0.022774,
     "end_time": "2025-03-30T16:24:00.560932",
     "exception": false,
     "start_time": "2025-03-30T16:24:00.538158",
     "status": "completed"
    },
    "tags": []
   },
   "outputs": [],
   "source": [
    "train['Embarked'].fillna('S',inplace=True)"
   ]
  },
  {
   "cell_type": "code",
   "execution_count": 10,
   "id": "f0623500",
   "metadata": {
    "execution": {
     "iopub.execute_input": "2025-03-30T16:24:00.588928Z",
     "iopub.status.busy": "2025-03-30T16:24:00.588542Z",
     "iopub.status.idle": "2025-03-30T16:24:00.595454Z",
     "shell.execute_reply": "2025-03-30T16:24:00.594399Z"
    },
    "papermill": {
     "duration": 0.023019,
     "end_time": "2025-03-30T16:24:00.597416",
     "exception": false,
     "start_time": "2025-03-30T16:24:00.574397",
     "status": "completed"
    },
    "tags": []
   },
   "outputs": [],
   "source": [
    "test['Fare'].fillna(test['Fare'].mean(), inplace=True)"
   ]
  },
  {
   "cell_type": "markdown",
   "id": "8f8fdca7",
   "metadata": {
    "papermill": {
     "duration": 0.012846,
     "end_time": "2025-03-30T16:24:00.623104",
     "exception": false,
     "start_time": "2025-03-30T16:24:00.610258",
     "status": "completed"
    },
    "tags": []
   },
   "source": [
    "### Creating a Unified DataFrame for Easier Manipulation\n"
   ]
  },
  {
   "cell_type": "code",
   "execution_count": 11,
   "id": "043b792f",
   "metadata": {
    "execution": {
     "iopub.execute_input": "2025-03-30T16:24:00.650547Z",
     "iopub.status.busy": "2025-03-30T16:24:00.650217Z",
     "iopub.status.idle": "2025-03-30T16:24:00.659653Z",
     "shell.execute_reply": "2025-03-30T16:24:00.658547Z"
    },
    "papermill": {
     "duration": 0.025876,
     "end_time": "2025-03-30T16:24:00.661944",
     "exception": false,
     "start_time": "2025-03-30T16:24:00.636068",
     "status": "completed"
    },
    "tags": []
   },
   "outputs": [],
   "source": [
    "df=pd.concat([train,test],sort=True).reset_index(drop=True)"
   ]
  },
  {
   "cell_type": "code",
   "execution_count": 12,
   "id": "b146f621",
   "metadata": {
    "execution": {
     "iopub.execute_input": "2025-03-30T16:24:00.689508Z",
     "iopub.status.busy": "2025-03-30T16:24:00.689147Z",
     "iopub.status.idle": "2025-03-30T16:24:00.696019Z",
     "shell.execute_reply": "2025-03-30T16:24:00.694889Z"
    },
    "papermill": {
     "duration": 0.023197,
     "end_time": "2025-03-30T16:24:00.698243",
     "exception": false,
     "start_time": "2025-03-30T16:24:00.675046",
     "status": "completed"
    },
    "tags": []
   },
   "outputs": [
    {
     "data": {
      "text/plain": [
       "(1309, 11)"
      ]
     },
     "execution_count": 12,
     "metadata": {},
     "output_type": "execute_result"
    }
   ],
   "source": [
    "df.shape"
   ]
  },
  {
   "cell_type": "code",
   "execution_count": 13,
   "id": "ee50c1ca",
   "metadata": {
    "execution": {
     "iopub.execute_input": "2025-03-30T16:24:00.726526Z",
     "iopub.status.busy": "2025-03-30T16:24:00.726193Z",
     "iopub.status.idle": "2025-03-30T16:24:00.741896Z",
     "shell.execute_reply": "2025-03-30T16:24:00.740802Z"
    },
    "papermill": {
     "duration": 0.032639,
     "end_time": "2025-03-30T16:24:00.744167",
     "exception": false,
     "start_time": "2025-03-30T16:24:00.711528",
     "status": "completed"
    },
    "tags": []
   },
   "outputs": [
    {
     "data": {
      "text/html": [
       "<div>\n",
       "<style scoped>\n",
       "    .dataframe tbody tr th:only-of-type {\n",
       "        vertical-align: middle;\n",
       "    }\n",
       "\n",
       "    .dataframe tbody tr th {\n",
       "        vertical-align: top;\n",
       "    }\n",
       "\n",
       "    .dataframe thead th {\n",
       "        text-align: right;\n",
       "    }\n",
       "</style>\n",
       "<table border=\"1\" class=\"dataframe\">\n",
       "  <thead>\n",
       "    <tr style=\"text-align: right;\">\n",
       "      <th></th>\n",
       "      <th>Age</th>\n",
       "      <th>Embarked</th>\n",
       "      <th>Fare</th>\n",
       "      <th>Name</th>\n",
       "      <th>Parch</th>\n",
       "      <th>PassengerId</th>\n",
       "      <th>Pclass</th>\n",
       "      <th>Sex</th>\n",
       "      <th>SibSp</th>\n",
       "      <th>Survived</th>\n",
       "      <th>Ticket</th>\n",
       "    </tr>\n",
       "  </thead>\n",
       "  <tbody>\n",
       "    <tr>\n",
       "      <th>0</th>\n",
       "      <td>22.0</td>\n",
       "      <td>S</td>\n",
       "      <td>7.2500</td>\n",
       "      <td>Braund, Mr. Owen Harris</td>\n",
       "      <td>0</td>\n",
       "      <td>1</td>\n",
       "      <td>3</td>\n",
       "      <td>male</td>\n",
       "      <td>1</td>\n",
       "      <td>0.0</td>\n",
       "      <td>A/5 21171</td>\n",
       "    </tr>\n",
       "    <tr>\n",
       "      <th>1</th>\n",
       "      <td>38.0</td>\n",
       "      <td>C</td>\n",
       "      <td>71.2833</td>\n",
       "      <td>Cumings, Mrs. John Bradley (Florence Briggs Th...</td>\n",
       "      <td>0</td>\n",
       "      <td>2</td>\n",
       "      <td>1</td>\n",
       "      <td>female</td>\n",
       "      <td>1</td>\n",
       "      <td>1.0</td>\n",
       "      <td>PC 17599</td>\n",
       "    </tr>\n",
       "    <tr>\n",
       "      <th>2</th>\n",
       "      <td>26.0</td>\n",
       "      <td>S</td>\n",
       "      <td>7.9250</td>\n",
       "      <td>Heikkinen, Miss. Laina</td>\n",
       "      <td>0</td>\n",
       "      <td>3</td>\n",
       "      <td>3</td>\n",
       "      <td>female</td>\n",
       "      <td>0</td>\n",
       "      <td>1.0</td>\n",
       "      <td>STON/O2. 3101282</td>\n",
       "    </tr>\n",
       "    <tr>\n",
       "      <th>3</th>\n",
       "      <td>35.0</td>\n",
       "      <td>S</td>\n",
       "      <td>53.1000</td>\n",
       "      <td>Futrelle, Mrs. Jacques Heath (Lily May Peel)</td>\n",
       "      <td>0</td>\n",
       "      <td>4</td>\n",
       "      <td>1</td>\n",
       "      <td>female</td>\n",
       "      <td>1</td>\n",
       "      <td>1.0</td>\n",
       "      <td>113803</td>\n",
       "    </tr>\n",
       "    <tr>\n",
       "      <th>4</th>\n",
       "      <td>35.0</td>\n",
       "      <td>S</td>\n",
       "      <td>8.0500</td>\n",
       "      <td>Allen, Mr. William Henry</td>\n",
       "      <td>0</td>\n",
       "      <td>5</td>\n",
       "      <td>3</td>\n",
       "      <td>male</td>\n",
       "      <td>0</td>\n",
       "      <td>0.0</td>\n",
       "      <td>373450</td>\n",
       "    </tr>\n",
       "  </tbody>\n",
       "</table>\n",
       "</div>"
      ],
      "text/plain": [
       "    Age Embarked     Fare                                               Name  \\\n",
       "0  22.0        S   7.2500                            Braund, Mr. Owen Harris   \n",
       "1  38.0        C  71.2833  Cumings, Mrs. John Bradley (Florence Briggs Th...   \n",
       "2  26.0        S   7.9250                             Heikkinen, Miss. Laina   \n",
       "3  35.0        S  53.1000       Futrelle, Mrs. Jacques Heath (Lily May Peel)   \n",
       "4  35.0        S   8.0500                           Allen, Mr. William Henry   \n",
       "\n",
       "   Parch  PassengerId  Pclass     Sex  SibSp  Survived            Ticket  \n",
       "0      0            1       3    male      1       0.0         A/5 21171  \n",
       "1      0            2       1  female      1       1.0          PC 17599  \n",
       "2      0            3       3  female      0       1.0  STON/O2. 3101282  \n",
       "3      0            4       1  female      1       1.0            113803  \n",
       "4      0            5       3    male      0       0.0            373450  "
      ]
     },
     "execution_count": 13,
     "metadata": {},
     "output_type": "execute_result"
    }
   ],
   "source": [
    "df.head()"
   ]
  },
  {
   "cell_type": "code",
   "execution_count": 14,
   "id": "ecc094e7",
   "metadata": {
    "execution": {
     "iopub.execute_input": "2025-03-30T16:24:00.772127Z",
     "iopub.status.busy": "2025-03-30T16:24:00.771711Z",
     "iopub.status.idle": "2025-03-30T16:24:00.783680Z",
     "shell.execute_reply": "2025-03-30T16:24:00.782470Z"
    },
    "papermill": {
     "duration": 0.028715,
     "end_time": "2025-03-30T16:24:00.786033",
     "exception": false,
     "start_time": "2025-03-30T16:24:00.757318",
     "status": "completed"
    },
    "tags": []
   },
   "outputs": [
    {
     "data": {
      "text/plain": [
       "Age            1.000000\n",
       "Fare           0.178314\n",
       "Parch          0.150917\n",
       "PassengerId    0.028814\n",
       "Pclass         0.408106\n",
       "SibSp          0.243699\n",
       "Survived       0.077221\n",
       "Name: Age, dtype: float64"
      ]
     },
     "execution_count": 14,
     "metadata": {},
     "output_type": "execute_result"
    }
   ],
   "source": [
    "df.corr(numeric_only=True)['Age'].abs()"
   ]
  },
  {
   "cell_type": "code",
   "execution_count": 15,
   "id": "6c2e19e4",
   "metadata": {
    "execution": {
     "iopub.execute_input": "2025-03-30T16:24:00.814534Z",
     "iopub.status.busy": "2025-03-30T16:24:00.814218Z",
     "iopub.status.idle": "2025-03-30T16:24:00.831248Z",
     "shell.execute_reply": "2025-03-30T16:24:00.830157Z"
    },
    "papermill": {
     "duration": 0.034017,
     "end_time": "2025-03-30T16:24:00.833478",
     "exception": false,
     "start_time": "2025-03-30T16:24:00.799461",
     "status": "completed"
    },
    "tags": []
   },
   "outputs": [
    {
     "data": {
      "text/plain": [
       "Sex     Pclass\n",
       "female  1         36.0\n",
       "        2         28.0\n",
       "        3         22.0\n",
       "male    1         42.0\n",
       "        2         29.5\n",
       "        3         25.0\n",
       "Name: Age, dtype: float64"
      ]
     },
     "execution_count": 15,
     "metadata": {},
     "output_type": "execute_result"
    }
   ],
   "source": [
    "df_Age_mean=df.groupby(['Sex', 'Pclass']).median(numeric_only=True)['Age']\n",
    "df_Age_mean"
   ]
  },
  {
   "cell_type": "code",
   "execution_count": 16,
   "id": "2401959e",
   "metadata": {
    "execution": {
     "iopub.execute_input": "2025-03-30T16:24:00.862470Z",
     "iopub.status.busy": "2025-03-30T16:24:00.862087Z",
     "iopub.status.idle": "2025-03-30T16:24:00.875913Z",
     "shell.execute_reply": "2025-03-30T16:24:00.874710Z"
    },
    "papermill": {
     "duration": 0.031257,
     "end_time": "2025-03-30T16:24:00.878398",
     "exception": false,
     "start_time": "2025-03-30T16:24:00.847141",
     "status": "completed"
    },
    "tags": []
   },
   "outputs": [],
   "source": [
    "df['Age']=df.groupby(['Sex','Pclass'])['Age'].transform(lambda x: x.fillna(x.median()))"
   ]
  },
  {
   "cell_type": "code",
   "execution_count": 17,
   "id": "0402cf91",
   "metadata": {
    "execution": {
     "iopub.execute_input": "2025-03-30T16:24:00.908441Z",
     "iopub.status.busy": "2025-03-30T16:24:00.908081Z",
     "iopub.status.idle": "2025-03-30T16:24:00.916472Z",
     "shell.execute_reply": "2025-03-30T16:24:00.915452Z"
    },
    "papermill": {
     "duration": 0.025335,
     "end_time": "2025-03-30T16:24:00.918473",
     "exception": false,
     "start_time": "2025-03-30T16:24:00.893138",
     "status": "completed"
    },
    "tags": []
   },
   "outputs": [
    {
     "data": {
      "text/plain": [
       "Age              0\n",
       "Embarked         0\n",
       "Fare             0\n",
       "Name             0\n",
       "Parch            0\n",
       "PassengerId      0\n",
       "Pclass           0\n",
       "Sex              0\n",
       "SibSp            0\n",
       "Survived       418\n",
       "Ticket           0\n",
       "dtype: int64"
      ]
     },
     "execution_count": 17,
     "metadata": {},
     "output_type": "execute_result"
    }
   ],
   "source": [
    "df.isnull().sum()"
   ]
  },
  {
   "cell_type": "markdown",
   "id": "30faa122",
   "metadata": {
    "papermill": {
     "duration": 0.013424,
     "end_time": "2025-03-30T16:24:01.003752",
     "exception": false,
     "start_time": "2025-03-30T16:24:00.990328",
     "status": "completed"
    },
    "tags": []
   },
   "source": [
    "### Extracting Titles from Names and Adding as a Separate Column\n"
   ]
  },
  {
   "cell_type": "code",
   "execution_count": 18,
   "id": "a5b3521d",
   "metadata": {
    "execution": {
     "iopub.execute_input": "2025-03-30T16:24:01.033258Z",
     "iopub.status.busy": "2025-03-30T16:24:01.032874Z",
     "iopub.status.idle": "2025-03-30T16:24:01.043861Z",
     "shell.execute_reply": "2025-03-30T16:24:01.042799Z"
    },
    "papermill": {
     "duration": 0.02817,
     "end_time": "2025-03-30T16:24:01.046065",
     "exception": false,
     "start_time": "2025-03-30T16:24:01.017895",
     "status": "completed"
    },
    "tags": []
   },
   "outputs": [],
   "source": [
    "df['Title']=df['Name'].str.split(\", \",expand=True)[1].str.split(\".\",expand=True)[0]"
   ]
  },
  {
   "cell_type": "code",
   "execution_count": 19,
   "id": "ac882922",
   "metadata": {
    "execution": {
     "iopub.execute_input": "2025-03-30T16:24:01.076295Z",
     "iopub.status.busy": "2025-03-30T16:24:01.075388Z",
     "iopub.status.idle": "2025-03-30T16:24:01.084346Z",
     "shell.execute_reply": "2025-03-30T16:24:01.083219Z"
    },
    "papermill": {
     "duration": 0.026559,
     "end_time": "2025-03-30T16:24:01.086758",
     "exception": false,
     "start_time": "2025-03-30T16:24:01.060199",
     "status": "completed"
    },
    "tags": []
   },
   "outputs": [
    {
     "data": {
      "text/plain": [
       "Title\n",
       "Mr              757\n",
       "Miss            260\n",
       "Mrs             197\n",
       "Master           61\n",
       "Rev               8\n",
       "Dr                8\n",
       "Col               4\n",
       "Mlle              2\n",
       "Major             2\n",
       "Ms                2\n",
       "Lady              1\n",
       "Sir               1\n",
       "Mme               1\n",
       "Don               1\n",
       "Capt              1\n",
       "the Countess      1\n",
       "Jonkheer          1\n",
       "Dona              1\n",
       "Name: count, dtype: int64"
      ]
     },
     "execution_count": 19,
     "metadata": {},
     "output_type": "execute_result"
    }
   ],
   "source": [
    "df['Title'].value_counts()"
   ]
  },
  {
   "cell_type": "code",
   "execution_count": 20,
   "id": "972eb73b",
   "metadata": {
    "execution": {
     "iopub.execute_input": "2025-03-30T16:24:01.117466Z",
     "iopub.status.busy": "2025-03-30T16:24:01.116602Z",
     "iopub.status.idle": "2025-03-30T16:24:01.127655Z",
     "shell.execute_reply": "2025-03-30T16:24:01.126669Z"
    },
    "papermill": {
     "duration": 0.02899,
     "end_time": "2025-03-30T16:24:01.129982",
     "exception": false,
     "start_time": "2025-03-30T16:24:01.100992",
     "status": "completed"
    },
    "tags": []
   },
   "outputs": [],
   "source": [
    "df['Title'] = df['Title'].replace(['Lady', 'the Countess','Capt', 'Col','Don', 'Dr', 'Major', 'Rev', 'Sir', 'Jonkheer', 'Dona'], 'Rare')\n",
    "df['Title'] = df['Title'].replace('Mlle', 'Miss')\n",
    "df['Title'] = df['Title'].replace('Ms', 'Miss')\n",
    "df['Title'] = df['Title'].replace('Mme', 'Mrs')"
   ]
  },
  {
   "cell_type": "code",
   "execution_count": 21,
   "id": "890d5e55",
   "metadata": {
    "execution": {
     "iopub.execute_input": "2025-03-30T16:24:01.160822Z",
     "iopub.status.busy": "2025-03-30T16:24:01.160431Z",
     "iopub.status.idle": "2025-03-30T16:24:01.169187Z",
     "shell.execute_reply": "2025-03-30T16:24:01.168075Z"
    },
    "papermill": {
     "duration": 0.026735,
     "end_time": "2025-03-30T16:24:01.171298",
     "exception": false,
     "start_time": "2025-03-30T16:24:01.144563",
     "status": "completed"
    },
    "tags": []
   },
   "outputs": [
    {
     "data": {
      "text/plain": [
       "Title\n",
       "Mr        757\n",
       "Miss      264\n",
       "Mrs       198\n",
       "Master     61\n",
       "Rare       29\n",
       "Name: count, dtype: int64"
      ]
     },
     "execution_count": 21,
     "metadata": {},
     "output_type": "execute_result"
    }
   ],
   "source": [
    "df['Title'].value_counts()"
   ]
  },
  {
   "cell_type": "markdown",
   "id": "6165cb52",
   "metadata": {
    "papermill": {
     "duration": 0.013758,
     "end_time": "2025-03-30T16:24:01.199887",
     "exception": false,
     "start_time": "2025-03-30T16:24:01.186129",
     "status": "completed"
    },
    "tags": []
   },
   "source": [
    "### Creating a Family Column by Combining Sibling and Parent Child Column\n",
    "\n"
   ]
  },
  {
   "cell_type": "code",
   "execution_count": 22,
   "id": "1855f22c",
   "metadata": {
    "execution": {
     "iopub.execute_input": "2025-03-30T16:24:01.229908Z",
     "iopub.status.busy": "2025-03-30T16:24:01.229535Z",
     "iopub.status.idle": "2025-03-30T16:24:01.235783Z",
     "shell.execute_reply": "2025-03-30T16:24:01.234706Z"
    },
    "papermill": {
     "duration": 0.023735,
     "end_time": "2025-03-30T16:24:01.237989",
     "exception": false,
     "start_time": "2025-03-30T16:24:01.214254",
     "status": "completed"
    },
    "tags": []
   },
   "outputs": [],
   "source": [
    "df['Family_size']=df['SibSp'] + df['Parch'] + 1"
   ]
  },
  {
   "cell_type": "code",
   "execution_count": 23,
   "id": "ee27266d",
   "metadata": {
    "execution": {
     "iopub.execute_input": "2025-03-30T16:24:01.269430Z",
     "iopub.status.busy": "2025-03-30T16:24:01.268579Z",
     "iopub.status.idle": "2025-03-30T16:24:01.286352Z",
     "shell.execute_reply": "2025-03-30T16:24:01.285203Z"
    },
    "papermill": {
     "duration": 0.035515,
     "end_time": "2025-03-30T16:24:01.288509",
     "exception": false,
     "start_time": "2025-03-30T16:24:01.252994",
     "status": "completed"
    },
    "tags": []
   },
   "outputs": [
    {
     "data": {
      "text/html": [
       "<div>\n",
       "<style scoped>\n",
       "    .dataframe tbody tr th:only-of-type {\n",
       "        vertical-align: middle;\n",
       "    }\n",
       "\n",
       "    .dataframe tbody tr th {\n",
       "        vertical-align: top;\n",
       "    }\n",
       "\n",
       "    .dataframe thead th {\n",
       "        text-align: right;\n",
       "    }\n",
       "</style>\n",
       "<table border=\"1\" class=\"dataframe\">\n",
       "  <thead>\n",
       "    <tr style=\"text-align: right;\">\n",
       "      <th></th>\n",
       "      <th>Age</th>\n",
       "      <th>Embarked</th>\n",
       "      <th>Fare</th>\n",
       "      <th>Name</th>\n",
       "      <th>Parch</th>\n",
       "      <th>PassengerId</th>\n",
       "      <th>Pclass</th>\n",
       "      <th>Sex</th>\n",
       "      <th>SibSp</th>\n",
       "      <th>Survived</th>\n",
       "      <th>Ticket</th>\n",
       "      <th>Title</th>\n",
       "      <th>Family_size</th>\n",
       "    </tr>\n",
       "  </thead>\n",
       "  <tbody>\n",
       "    <tr>\n",
       "      <th>337</th>\n",
       "      <td>41.0</td>\n",
       "      <td>C</td>\n",
       "      <td>134.5000</td>\n",
       "      <td>Burns, Miss. Elizabeth Margaret</td>\n",
       "      <td>0</td>\n",
       "      <td>338</td>\n",
       "      <td>1</td>\n",
       "      <td>female</td>\n",
       "      <td>0</td>\n",
       "      <td>1.0</td>\n",
       "      <td>16966</td>\n",
       "      <td>Miss</td>\n",
       "      <td>1</td>\n",
       "    </tr>\n",
       "    <tr>\n",
       "      <th>568</th>\n",
       "      <td>25.0</td>\n",
       "      <td>C</td>\n",
       "      <td>7.2292</td>\n",
       "      <td>Doharr, Mr. Tannous</td>\n",
       "      <td>0</td>\n",
       "      <td>569</td>\n",
       "      <td>3</td>\n",
       "      <td>male</td>\n",
       "      <td>0</td>\n",
       "      <td>0.0</td>\n",
       "      <td>2686</td>\n",
       "      <td>Mr</td>\n",
       "      <td>1</td>\n",
       "    </tr>\n",
       "    <tr>\n",
       "      <th>1006</th>\n",
       "      <td>18.0</td>\n",
       "      <td>C</td>\n",
       "      <td>14.4542</td>\n",
       "      <td>Chronopoulos, Mr. Demetrios</td>\n",
       "      <td>0</td>\n",
       "      <td>1007</td>\n",
       "      <td>3</td>\n",
       "      <td>male</td>\n",
       "      <td>1</td>\n",
       "      <td>NaN</td>\n",
       "      <td>2680</td>\n",
       "      <td>Mr</td>\n",
       "      <td>2</td>\n",
       "    </tr>\n",
       "    <tr>\n",
       "      <th>1073</th>\n",
       "      <td>18.0</td>\n",
       "      <td>S</td>\n",
       "      <td>53.1000</td>\n",
       "      <td>Marvin, Mrs. Daniel Warner (Mary Graham Carmic...</td>\n",
       "      <td>0</td>\n",
       "      <td>1074</td>\n",
       "      <td>1</td>\n",
       "      <td>female</td>\n",
       "      <td>1</td>\n",
       "      <td>NaN</td>\n",
       "      <td>113773</td>\n",
       "      <td>Mrs</td>\n",
       "      <td>2</td>\n",
       "    </tr>\n",
       "    <tr>\n",
       "      <th>802</th>\n",
       "      <td>11.0</td>\n",
       "      <td>S</td>\n",
       "      <td>120.0000</td>\n",
       "      <td>Carter, Master. William Thornton II</td>\n",
       "      <td>2</td>\n",
       "      <td>803</td>\n",
       "      <td>1</td>\n",
       "      <td>male</td>\n",
       "      <td>1</td>\n",
       "      <td>1.0</td>\n",
       "      <td>113760</td>\n",
       "      <td>Master</td>\n",
       "      <td>4</td>\n",
       "    </tr>\n",
       "    <tr>\n",
       "      <th>125</th>\n",
       "      <td>12.0</td>\n",
       "      <td>C</td>\n",
       "      <td>11.2417</td>\n",
       "      <td>Nicola-Yarred, Master. Elias</td>\n",
       "      <td>0</td>\n",
       "      <td>126</td>\n",
       "      <td>3</td>\n",
       "      <td>male</td>\n",
       "      <td>1</td>\n",
       "      <td>1.0</td>\n",
       "      <td>2651</td>\n",
       "      <td>Master</td>\n",
       "      <td>2</td>\n",
       "    </tr>\n",
       "    <tr>\n",
       "      <th>514</th>\n",
       "      <td>24.0</td>\n",
       "      <td>S</td>\n",
       "      <td>7.4958</td>\n",
       "      <td>Coleff, Mr. Satio</td>\n",
       "      <td>0</td>\n",
       "      <td>515</td>\n",
       "      <td>3</td>\n",
       "      <td>male</td>\n",
       "      <td>0</td>\n",
       "      <td>0.0</td>\n",
       "      <td>349209</td>\n",
       "      <td>Mr</td>\n",
       "      <td>1</td>\n",
       "    </tr>\n",
       "    <tr>\n",
       "      <th>1069</th>\n",
       "      <td>36.0</td>\n",
       "      <td>S</td>\n",
       "      <td>39.0000</td>\n",
       "      <td>Becker, Mrs. Allen Oliver (Nellie E Baumgardner)</td>\n",
       "      <td>3</td>\n",
       "      <td>1070</td>\n",
       "      <td>2</td>\n",
       "      <td>female</td>\n",
       "      <td>0</td>\n",
       "      <td>NaN</td>\n",
       "      <td>230136</td>\n",
       "      <td>Mrs</td>\n",
       "      <td>4</td>\n",
       "    </tr>\n",
       "    <tr>\n",
       "      <th>459</th>\n",
       "      <td>25.0</td>\n",
       "      <td>Q</td>\n",
       "      <td>7.7500</td>\n",
       "      <td>O'Connor, Mr. Maurice</td>\n",
       "      <td>0</td>\n",
       "      <td>460</td>\n",
       "      <td>3</td>\n",
       "      <td>male</td>\n",
       "      <td>0</td>\n",
       "      <td>0.0</td>\n",
       "      <td>371060</td>\n",
       "      <td>Mr</td>\n",
       "      <td>1</td>\n",
       "    </tr>\n",
       "    <tr>\n",
       "      <th>713</th>\n",
       "      <td>29.0</td>\n",
       "      <td>S</td>\n",
       "      <td>9.4833</td>\n",
       "      <td>Larsson, Mr. August Viktor</td>\n",
       "      <td>0</td>\n",
       "      <td>714</td>\n",
       "      <td>3</td>\n",
       "      <td>male</td>\n",
       "      <td>0</td>\n",
       "      <td>0.0</td>\n",
       "      <td>7545</td>\n",
       "      <td>Mr</td>\n",
       "      <td>1</td>\n",
       "    </tr>\n",
       "  </tbody>\n",
       "</table>\n",
       "</div>"
      ],
      "text/plain": [
       "       Age Embarked      Fare  \\\n",
       "337   41.0        C  134.5000   \n",
       "568   25.0        C    7.2292   \n",
       "1006  18.0        C   14.4542   \n",
       "1073  18.0        S   53.1000   \n",
       "802   11.0        S  120.0000   \n",
       "125   12.0        C   11.2417   \n",
       "514   24.0        S    7.4958   \n",
       "1069  36.0        S   39.0000   \n",
       "459   25.0        Q    7.7500   \n",
       "713   29.0        S    9.4833   \n",
       "\n",
       "                                                   Name  Parch  PassengerId  \\\n",
       "337                     Burns, Miss. Elizabeth Margaret      0          338   \n",
       "568                                 Doharr, Mr. Tannous      0          569   \n",
       "1006                        Chronopoulos, Mr. Demetrios      0         1007   \n",
       "1073  Marvin, Mrs. Daniel Warner (Mary Graham Carmic...      0         1074   \n",
       "802                 Carter, Master. William Thornton II      2          803   \n",
       "125                        Nicola-Yarred, Master. Elias      0          126   \n",
       "514                                   Coleff, Mr. Satio      0          515   \n",
       "1069   Becker, Mrs. Allen Oliver (Nellie E Baumgardner)      3         1070   \n",
       "459                               O'Connor, Mr. Maurice      0          460   \n",
       "713                          Larsson, Mr. August Viktor      0          714   \n",
       "\n",
       "      Pclass     Sex  SibSp  Survived  Ticket   Title  Family_size  \n",
       "337        1  female      0       1.0   16966    Miss            1  \n",
       "568        3    male      0       0.0    2686      Mr            1  \n",
       "1006       3    male      1       NaN    2680      Mr            2  \n",
       "1073       1  female      1       NaN  113773     Mrs            2  \n",
       "802        1    male      1       1.0  113760  Master            4  \n",
       "125        3    male      1       1.0    2651  Master            2  \n",
       "514        3    male      0       0.0  349209      Mr            1  \n",
       "1069       2  female      0       NaN  230136     Mrs            4  \n",
       "459        3    male      0       0.0  371060      Mr            1  \n",
       "713        3    male      0       0.0    7545      Mr            1  "
      ]
     },
     "execution_count": 23,
     "metadata": {},
     "output_type": "execute_result"
    }
   ],
   "source": [
    "df.sample(10)"
   ]
  },
  {
   "cell_type": "code",
   "execution_count": 24,
   "id": "1a7d8cfc",
   "metadata": {
    "execution": {
     "iopub.execute_input": "2025-03-30T16:24:01.319487Z",
     "iopub.status.busy": "2025-03-30T16:24:01.319153Z",
     "iopub.status.idle": "2025-03-30T16:24:01.325343Z",
     "shell.execute_reply": "2025-03-30T16:24:01.324236Z"
    },
    "papermill": {
     "duration": 0.024273,
     "end_time": "2025-03-30T16:24:01.327563",
     "exception": false,
     "start_time": "2025-03-30T16:24:01.303290",
     "status": "completed"
    },
    "tags": []
   },
   "outputs": [],
   "source": [
    "df.drop(columns=['Name','Parch','SibSp','Ticket'],inplace=True)"
   ]
  },
  {
   "cell_type": "code",
   "execution_count": 25,
   "id": "4796f1b7",
   "metadata": {
    "execution": {
     "iopub.execute_input": "2025-03-30T16:24:01.359578Z",
     "iopub.status.busy": "2025-03-30T16:24:01.359255Z",
     "iopub.status.idle": "2025-03-30T16:24:01.374549Z",
     "shell.execute_reply": "2025-03-30T16:24:01.373502Z"
    },
    "papermill": {
     "duration": 0.03354,
     "end_time": "2025-03-30T16:24:01.376688",
     "exception": false,
     "start_time": "2025-03-30T16:24:01.343148",
     "status": "completed"
    },
    "tags": []
   },
   "outputs": [
    {
     "data": {
      "text/html": [
       "<div>\n",
       "<style scoped>\n",
       "    .dataframe tbody tr th:only-of-type {\n",
       "        vertical-align: middle;\n",
       "    }\n",
       "\n",
       "    .dataframe tbody tr th {\n",
       "        vertical-align: top;\n",
       "    }\n",
       "\n",
       "    .dataframe thead th {\n",
       "        text-align: right;\n",
       "    }\n",
       "</style>\n",
       "<table border=\"1\" class=\"dataframe\">\n",
       "  <thead>\n",
       "    <tr style=\"text-align: right;\">\n",
       "      <th></th>\n",
       "      <th>Age</th>\n",
       "      <th>Embarked</th>\n",
       "      <th>Fare</th>\n",
       "      <th>PassengerId</th>\n",
       "      <th>Pclass</th>\n",
       "      <th>Sex</th>\n",
       "      <th>Survived</th>\n",
       "      <th>Title</th>\n",
       "      <th>Family_size</th>\n",
       "    </tr>\n",
       "  </thead>\n",
       "  <tbody>\n",
       "    <tr>\n",
       "      <th>439</th>\n",
       "      <td>31.0</td>\n",
       "      <td>S</td>\n",
       "      <td>10.5000</td>\n",
       "      <td>440</td>\n",
       "      <td>2</td>\n",
       "      <td>male</td>\n",
       "      <td>0.0</td>\n",
       "      <td>Mr</td>\n",
       "      <td>1</td>\n",
       "    </tr>\n",
       "    <tr>\n",
       "      <th>705</th>\n",
       "      <td>39.0</td>\n",
       "      <td>S</td>\n",
       "      <td>26.0000</td>\n",
       "      <td>706</td>\n",
       "      <td>2</td>\n",
       "      <td>male</td>\n",
       "      <td>0.0</td>\n",
       "      <td>Mr</td>\n",
       "      <td>1</td>\n",
       "    </tr>\n",
       "    <tr>\n",
       "      <th>370</th>\n",
       "      <td>25.0</td>\n",
       "      <td>C</td>\n",
       "      <td>55.4417</td>\n",
       "      <td>371</td>\n",
       "      <td>1</td>\n",
       "      <td>male</td>\n",
       "      <td>1.0</td>\n",
       "      <td>Mr</td>\n",
       "      <td>2</td>\n",
       "    </tr>\n",
       "    <tr>\n",
       "      <th>780</th>\n",
       "      <td>13.0</td>\n",
       "      <td>C</td>\n",
       "      <td>7.2292</td>\n",
       "      <td>781</td>\n",
       "      <td>3</td>\n",
       "      <td>female</td>\n",
       "      <td>1.0</td>\n",
       "      <td>Miss</td>\n",
       "      <td>1</td>\n",
       "    </tr>\n",
       "    <tr>\n",
       "      <th>767</th>\n",
       "      <td>30.5</td>\n",
       "      <td>Q</td>\n",
       "      <td>7.7500</td>\n",
       "      <td>768</td>\n",
       "      <td>3</td>\n",
       "      <td>female</td>\n",
       "      <td>0.0</td>\n",
       "      <td>Miss</td>\n",
       "      <td>1</td>\n",
       "    </tr>\n",
       "    <tr>\n",
       "      <th>891</th>\n",
       "      <td>34.5</td>\n",
       "      <td>Q</td>\n",
       "      <td>7.8292</td>\n",
       "      <td>892</td>\n",
       "      <td>3</td>\n",
       "      <td>male</td>\n",
       "      <td>NaN</td>\n",
       "      <td>Mr</td>\n",
       "      <td>1</td>\n",
       "    </tr>\n",
       "    <tr>\n",
       "      <th>800</th>\n",
       "      <td>34.0</td>\n",
       "      <td>S</td>\n",
       "      <td>13.0000</td>\n",
       "      <td>801</td>\n",
       "      <td>2</td>\n",
       "      <td>male</td>\n",
       "      <td>0.0</td>\n",
       "      <td>Mr</td>\n",
       "      <td>1</td>\n",
       "    </tr>\n",
       "    <tr>\n",
       "      <th>893</th>\n",
       "      <td>62.0</td>\n",
       "      <td>Q</td>\n",
       "      <td>9.6875</td>\n",
       "      <td>894</td>\n",
       "      <td>2</td>\n",
       "      <td>male</td>\n",
       "      <td>NaN</td>\n",
       "      <td>Mr</td>\n",
       "      <td>1</td>\n",
       "    </tr>\n",
       "    <tr>\n",
       "      <th>678</th>\n",
       "      <td>43.0</td>\n",
       "      <td>S</td>\n",
       "      <td>46.9000</td>\n",
       "      <td>679</td>\n",
       "      <td>3</td>\n",
       "      <td>female</td>\n",
       "      <td>0.0</td>\n",
       "      <td>Mrs</td>\n",
       "      <td>8</td>\n",
       "    </tr>\n",
       "    <tr>\n",
       "      <th>480</th>\n",
       "      <td>9.0</td>\n",
       "      <td>S</td>\n",
       "      <td>46.9000</td>\n",
       "      <td>481</td>\n",
       "      <td>3</td>\n",
       "      <td>male</td>\n",
       "      <td>0.0</td>\n",
       "      <td>Master</td>\n",
       "      <td>8</td>\n",
       "    </tr>\n",
       "  </tbody>\n",
       "</table>\n",
       "</div>"
      ],
      "text/plain": [
       "      Age Embarked     Fare  PassengerId  Pclass     Sex  Survived   Title  \\\n",
       "439  31.0        S  10.5000          440       2    male       0.0      Mr   \n",
       "705  39.0        S  26.0000          706       2    male       0.0      Mr   \n",
       "370  25.0        C  55.4417          371       1    male       1.0      Mr   \n",
       "780  13.0        C   7.2292          781       3  female       1.0    Miss   \n",
       "767  30.5        Q   7.7500          768       3  female       0.0    Miss   \n",
       "891  34.5        Q   7.8292          892       3    male       NaN      Mr   \n",
       "800  34.0        S  13.0000          801       2    male       0.0      Mr   \n",
       "893  62.0        Q   9.6875          894       2    male       NaN      Mr   \n",
       "678  43.0        S  46.9000          679       3  female       0.0     Mrs   \n",
       "480   9.0        S  46.9000          481       3    male       0.0  Master   \n",
       "\n",
       "     Family_size  \n",
       "439            1  \n",
       "705            1  \n",
       "370            2  \n",
       "780            1  \n",
       "767            1  \n",
       "891            1  \n",
       "800            1  \n",
       "893            1  \n",
       "678            8  \n",
       "480            8  "
      ]
     },
     "execution_count": 25,
     "metadata": {},
     "output_type": "execute_result"
    }
   ],
   "source": [
    "df.sample(10)"
   ]
  },
  {
   "cell_type": "code",
   "execution_count": 26,
   "id": "9b72ab74",
   "metadata": {
    "execution": {
     "iopub.execute_input": "2025-03-30T16:24:01.408759Z",
     "iopub.status.busy": "2025-03-30T16:24:01.408413Z",
     "iopub.status.idle": "2025-03-30T16:24:01.413575Z",
     "shell.execute_reply": "2025-03-30T16:24:01.412594Z"
    },
    "papermill": {
     "duration": 0.023909,
     "end_time": "2025-03-30T16:24:01.415711",
     "exception": false,
     "start_time": "2025-03-30T16:24:01.391802",
     "status": "completed"
    },
    "tags": []
   },
   "outputs": [],
   "source": [
    "def family_size(number):\n",
    "    if number==1:\n",
    "        return \"Alone\"\n",
    "    elif number>1 and number <5:\n",
    "        return \"Small\"\n",
    "    else:\n",
    "        return \"Large\""
   ]
  },
  {
   "cell_type": "code",
   "execution_count": 27,
   "id": "794aa457",
   "metadata": {
    "execution": {
     "iopub.execute_input": "2025-03-30T16:24:01.448002Z",
     "iopub.status.busy": "2025-03-30T16:24:01.447609Z",
     "iopub.status.idle": "2025-03-30T16:24:01.453828Z",
     "shell.execute_reply": "2025-03-30T16:24:01.452631Z"
    },
    "papermill": {
     "duration": 0.025058,
     "end_time": "2025-03-30T16:24:01.456238",
     "exception": false,
     "start_time": "2025-03-30T16:24:01.431180",
     "status": "completed"
    },
    "tags": []
   },
   "outputs": [],
   "source": [
    "df['Family_size']=df['Family_size'].apply(family_size)\n"
   ]
  },
  {
   "cell_type": "markdown",
   "id": "e815b914",
   "metadata": {
    "papermill": {
     "duration": 0.014784,
     "end_time": "2025-03-30T16:24:01.486406",
     "exception": false,
     "start_time": "2025-03-30T16:24:01.471622",
     "status": "completed"
    },
    "tags": []
   },
   "source": [
    "## Exploratory Data Analysis"
   ]
  },
  {
   "cell_type": "code",
   "execution_count": 28,
   "id": "4a44da38",
   "metadata": {
    "execution": {
     "iopub.execute_input": "2025-03-30T16:24:01.520529Z",
     "iopub.status.busy": "2025-03-30T16:24:01.520198Z",
     "iopub.status.idle": "2025-03-30T16:24:01.531689Z",
     "shell.execute_reply": "2025-03-30T16:24:01.530623Z"
    },
    "papermill": {
     "duration": 0.032201,
     "end_time": "2025-03-30T16:24:01.533802",
     "exception": false,
     "start_time": "2025-03-30T16:24:01.501601",
     "status": "completed"
    },
    "tags": []
   },
   "outputs": [
    {
     "name": "stdout",
     "output_type": "stream",
     "text": [
      "<class 'pandas.core.frame.DataFrame'>\n",
      "RangeIndex: 1309 entries, 0 to 1308\n",
      "Data columns (total 9 columns):\n",
      " #   Column       Non-Null Count  Dtype  \n",
      "---  ------       --------------  -----  \n",
      " 0   Age          1309 non-null   float64\n",
      " 1   Embarked     1309 non-null   object \n",
      " 2   Fare         1309 non-null   float64\n",
      " 3   PassengerId  1309 non-null   int64  \n",
      " 4   Pclass       1309 non-null   int64  \n",
      " 5   Sex          1309 non-null   object \n",
      " 6   Survived     891 non-null    float64\n",
      " 7   Title        1309 non-null   object \n",
      " 8   Family_size  1309 non-null   object \n",
      "dtypes: float64(3), int64(2), object(4)\n",
      "memory usage: 92.2+ KB\n"
     ]
    }
   ],
   "source": [
    "df.info()"
   ]
  },
  {
   "cell_type": "code",
   "execution_count": 29,
   "id": "5206cf96",
   "metadata": {
    "execution": {
     "iopub.execute_input": "2025-03-30T16:24:01.566410Z",
     "iopub.status.busy": "2025-03-30T16:24:01.565577Z",
     "iopub.status.idle": "2025-03-30T16:24:01.571238Z",
     "shell.execute_reply": "2025-03-30T16:24:01.570121Z"
    },
    "papermill": {
     "duration": 0.024157,
     "end_time": "2025-03-30T16:24:01.573209",
     "exception": false,
     "start_time": "2025-03-30T16:24:01.549052",
     "status": "completed"
    },
    "tags": []
   },
   "outputs": [],
   "source": [
    "df['Age'] = df['Age'].astype('int64')\n"
   ]
  },
  {
   "cell_type": "code",
   "execution_count": 30,
   "id": "c0a07e0e",
   "metadata": {
    "execution": {
     "iopub.execute_input": "2025-03-30T16:24:01.607401Z",
     "iopub.status.busy": "2025-03-30T16:24:01.606978Z",
     "iopub.status.idle": "2025-03-30T16:24:01.618467Z",
     "shell.execute_reply": "2025-03-30T16:24:01.617344Z"
    },
    "papermill": {
     "duration": 0.031604,
     "end_time": "2025-03-30T16:24:01.621605",
     "exception": false,
     "start_time": "2025-03-30T16:24:01.590001",
     "status": "completed"
    },
    "tags": []
   },
   "outputs": [
    {
     "name": "stdout",
     "output_type": "stream",
     "text": [
      "<class 'pandas.core.frame.DataFrame'>\n",
      "RangeIndex: 1309 entries, 0 to 1308\n",
      "Data columns (total 9 columns):\n",
      " #   Column       Non-Null Count  Dtype  \n",
      "---  ------       --------------  -----  \n",
      " 0   Age          1309 non-null   int64  \n",
      " 1   Embarked     1309 non-null   object \n",
      " 2   Fare         1309 non-null   float64\n",
      " 3   PassengerId  1309 non-null   int64  \n",
      " 4   Pclass       1309 non-null   int64  \n",
      " 5   Sex          1309 non-null   object \n",
      " 6   Survived     891 non-null    float64\n",
      " 7   Title        1309 non-null   object \n",
      " 8   Family_size  1309 non-null   object \n",
      "dtypes: float64(2), int64(3), object(4)\n",
      "memory usage: 92.2+ KB\n"
     ]
    }
   ],
   "source": [
    "df.info()"
   ]
  },
  {
   "cell_type": "markdown",
   "id": "cf3acda6",
   "metadata": {
    "papermill": {
     "duration": 0.016332,
     "end_time": "2025-03-30T16:24:01.654706",
     "exception": false,
     "start_time": "2025-03-30T16:24:01.638374",
     "status": "completed"
    },
    "tags": []
   },
   "source": [
    "### Finding Survival Correlation with Every Other Column\n",
    "\n",
    "We will analyze the correlation between survival and every other column to understand their relationships.\n"
   ]
  },
  {
   "cell_type": "code",
   "execution_count": 31,
   "id": "f30b9e78",
   "metadata": {
    "execution": {
     "iopub.execute_input": "2025-03-30T16:24:01.687640Z",
     "iopub.status.busy": "2025-03-30T16:24:01.687311Z",
     "iopub.status.idle": "2025-03-30T16:24:01.710878Z",
     "shell.execute_reply": "2025-03-30T16:24:01.709500Z"
    },
    "papermill": {
     "duration": 0.043062,
     "end_time": "2025-03-30T16:24:01.713271",
     "exception": false,
     "start_time": "2025-03-30T16:24:01.670209",
     "status": "completed"
    },
    "tags": []
   },
   "outputs": [
    {
     "name": "stdout",
     "output_type": "stream",
     "text": [
      "Survival Correlation by: Embarked\n",
      "  Embarked  Survived\n",
      "0        C  0.553571\n",
      "1        Q  0.389610\n",
      "2        S  0.339009\n",
      "---------- \n",
      "\n",
      "Survival Correlation by: Pclass\n",
      "   Pclass  Survived\n",
      "0       1  0.629630\n",
      "1       2  0.472826\n",
      "2       3  0.242363\n",
      "---------- \n",
      "\n",
      "Survival Correlation by: Sex\n",
      "      Sex  Survived\n",
      "0  female  0.742038\n",
      "1    male  0.188908\n",
      "---------- \n",
      "\n",
      "Survival Correlation by: Title\n",
      "    Title  Survived\n",
      "0  Master  0.575000\n",
      "1    Miss  0.702703\n",
      "2      Mr  0.156673\n",
      "3     Mrs  0.793651\n",
      "4    Rare  0.347826\n",
      "---------- \n",
      "\n",
      "Survival Correlation by: Family_size\n",
      "  Family_size  Survived\n",
      "0       Alone  0.303538\n",
      "1       Large  0.161290\n",
      "2       Small  0.578767\n",
      "---------- \n",
      "\n"
     ]
    }
   ],
   "source": [
    "col=['Embarked','Pclass','Sex','Title','Family_size']\n",
    "for i in col:\n",
    "    print('Survival Correlation by:', i)\n",
    "    df2=df.groupby(i)['Survived'].mean().reset_index()\n",
    "    print(df2)\n",
    "    print('-'*10, '\\n')"
   ]
  },
  {
   "cell_type": "markdown",
   "id": "8e41c066",
   "metadata": {
    "papermill": {
     "duration": 0.015186,
     "end_time": "2025-03-30T16:24:01.744442",
     "exception": false,
     "start_time": "2025-03-30T16:24:01.729256",
     "status": "completed"
    },
    "tags": []
   },
   "source": [
    "### Adding Graphs to Clarify the Picture\n",
    "\n",
    "We will include some visualizations to make the data and its correlations clearer.\n"
   ]
  },
  {
   "cell_type": "code",
   "execution_count": 32,
   "id": "3f28944f",
   "metadata": {
    "execution": {
     "iopub.execute_input": "2025-03-30T16:24:01.777234Z",
     "iopub.status.busy": "2025-03-30T16:24:01.776882Z",
     "iopub.status.idle": "2025-03-30T16:24:02.749199Z",
     "shell.execute_reply": "2025-03-30T16:24:02.748075Z"
    },
    "papermill": {
     "duration": 0.99121,
     "end_time": "2025-03-30T16:24:02.751452",
     "exception": false,
     "start_time": "2025-03-30T16:24:01.760242",
     "status": "completed"
    },
    "tags": []
   },
   "outputs": [
    {
     "data": {
      "image/png": "[encoded data removed]",
      "text/plain": [
       "<Figure size 640x480 with 1 Axes>"
      ]
     },
     "metadata": {},
     "output_type": "display_data"
    }
   ],
   "source": [
    "sns.histplot(data=df, x='Age', hue='Survived', bins=30, kde=False, element='step', stat='density', common_norm=False, palette={0: 'red', 1: 'green'}, alpha=0.5)\n",
    "plt.title('Age Distribution by Survival')\n",
    "plt.xlabel('Age')\n",
    "plt.ylabel('Density')\n",
    "plt.legend(title='Survived', labels=['Not Survived', 'Survived'])\n",
    "plt.show()\n"
   ]
  },
  {
   "cell_type": "code",
   "execution_count": 33,
   "id": "fb6886a8",
   "metadata": {
    "execution": {
     "iopub.execute_input": "2025-03-30T16:24:02.785630Z",
     "iopub.status.busy": "2025-03-30T16:24:02.784660Z",
     "iopub.status.idle": "2025-03-30T16:24:02.800424Z",
     "shell.execute_reply": "2025-03-30T16:24:02.799385Z"
    },
    "papermill": {
     "duration": 0.034747,
     "end_time": "2025-03-30T16:24:02.802403",
     "exception": false,
     "start_time": "2025-03-30T16:24:02.767656",
     "status": "completed"
    },
    "tags": []
   },
   "outputs": [
    {
     "data": {
      "image/png": "[encoded data removed]",
      "text/plain": [
       "<Figure size 640x480 with 1 Axes>"
      ]
     },
     "metadata": {},
     "output_type": "display_data"
    }
   ],
   "source": [
    "sns.histplot(data=df, x='Fare', hue='Survived', bins=30, kde=False, element='step', stat='density', common_norm=False, palette={0: 'red', 1: 'green'}, alpha=0.5)\n",
    "plt.title('Fare Distribution by Survival')\n",
    "plt.xlabel('Fare')\n",
    "plt.ylabel('Density')\n",
    "plt.legend(title='Survived', labels=['Not Survived', 'Survived'])\n",
    "plt.show()\n"
   ]
  },
  {
   "cell_type": "code",
   "execution_count": 34,
   "id": "50448058",
   "metadata": {
    "execution": {
     "iopub.execute_input": "2025-03-30T16:24:02.837667Z",
     "iopub.status.busy": "2025-03-30T16:24:02.837274Z",
     "iopub.status.idle": "2025-03-30T16:24:02.855950Z",
     "shell.execute_reply": "2025-03-30T16:24:02.854880Z"
    },
    "papermill": {
     "duration": 0.038871,
     "end_time": "2025-03-30T16:24:02.858062",
     "exception": false,
     "start_time": "2025-03-30T16:24:02.819191",
     "status": "completed"
    },
    "tags": []
   },
   "outputs": [
    {
     "data": {
      "image/png": "[encoded data removed]",
      "text/plain": [
       "<Figure size 640x480 with 1 Axes>"
      ]
     },
     "metadata": {},
     "output_type": "display_data"
    }
   ],
   "source": [
    "sns.histplot(data=df, x='Family_size', hue='Survived', multiple='stack', palette={0: 'red', 1: 'green'}, alpha=0.6)\n",
    "plt.title('Family Size Distribution by Survival')\n",
    "plt.xlabel('Family Size')\n",
    "plt.ylabel('Count')\n",
    "plt.legend(title='Survived', labels=['Not Survived', 'Survived'])\n",
    "plt.show()\n"
   ]
  },
  {
   "cell_type": "code",
   "execution_count": 35,
   "id": "3034d804",
   "metadata": {
    "execution": {
     "iopub.execute_input": "2025-03-30T16:24:02.893183Z",
     "iopub.status.busy": "2025-03-30T16:24:02.892837Z",
     "iopub.status.idle": "2025-03-30T16:24:03.225374Z",
     "shell.execute_reply": "2025-03-30T16:24:03.224306Z"
    },
    "papermill": {
     "duration": 0.352958,
     "end_time": "2025-03-30T16:24:03.227761",
     "exception": false,
     "start_time": "2025-03-30T16:24:02.874803",
     "status": "completed"
    },
    "tags": []
   },
   "outputs": [
    {
     "data": {
      "image/png": "[encoded data removed]",
      "text/plain": [
       "<Figure size 2000x500 with 5 Axes>"
      ]
     },
     "metadata": {},
     "output_type": "display_data"
    }
   ],
   "source": [
    "fig, axes = plt.subplots(1, len(col), figsize=(20, 5))\n",
    "\n",
    "for i, c in enumerate(col):\n",
    "    sns.countplot(data=df, x=c, hue='Survived', palette={0: 'red', 1: 'green'}, ax=axes[i])\n",
    "    axes[i].set_title(f'Countplot of {c} by Survival')\n",
    "    axes[i].set_xlabel(c)\n",
    "    axes[i].set_ylabel('Count')\n",
    "    axes[i].legend(title='Survived', labels=['Not Survived', 'Survived'])\n",
    "\n",
    "plt.tight_layout()\n",
    "plt.show()\n"
   ]
  },
  {
   "cell_type": "code",
   "execution_count": 36,
   "id": "f89862eb",
   "metadata": {
    "execution": {
     "iopub.execute_input": "2025-03-30T16:24:03.263788Z",
     "iopub.status.busy": "2025-03-30T16:24:03.263371Z",
     "iopub.status.idle": "2025-03-30T16:24:09.924574Z",
     "shell.execute_reply": "2025-03-30T16:24:09.923455Z"
    },
    "papermill": {
     "duration": 6.685251,
     "end_time": "2025-03-30T16:24:09.930354",
     "exception": false,
     "start_time": "2025-03-30T16:24:03.245103",
     "status": "completed"
    },
    "tags": []
   },
   "outputs": [
    {
     "data": {
      "text/plain": [
       "<seaborn.axisgrid.PairGrid at 0x167c7815650>"
      ]
     },
     "execution_count": 36,
     "metadata": {},
     "output_type": "execute_result"
    },
    {
     "data": {
      "image/png": "[encoded data removed]",
      "text/plain": [
       "<Figure size 1072.12x1000 with 20 Axes>"
      ]
     },
     "metadata": {},
     "output_type": "display_data"
    }
   ],
   "source": [
    "sns.pairplot(df,hue='Survived')"
   ]
  },
  {
   "cell_type": "code",
   "execution_count": 37,
   "id": "4146566a",
   "metadata": {
    "execution": {
     "iopub.execute_input": "2025-03-30T16:24:09.984408Z",
     "iopub.status.busy": "2025-03-30T16:24:09.983974Z",
     "iopub.status.idle": "2025-03-30T16:24:10.434260Z",
     "shell.execute_reply": "2025-03-30T16:24:10.433118Z"
    },
    "papermill": {
     "duration": 0.480002,
     "end_time": "2025-03-30T16:24:10.436773",
     "exception": false,
     "start_time": "2025-03-30T16:24:09.956771",
     "status": "completed"
    },
    "tags": []
   },
   "outputs": [
    {
     "data": {
      "image/png": "[encoded data removed]",
      "text/plain": [
       "<Figure size 1400x1200 with 2 Axes>"
      ]
     },
     "metadata": {},
     "output_type": "display_data"
    }
   ],
   "source": [
    "def correlation_heatmap(df):\n",
    "    _ , ax = plt.subplots(figsize =(14, 12))\n",
    "    colormap = sns.diverging_palette(220, 10, as_cmap = True)\n",
    "    \n",
    "    _ = sns.heatmap(\n",
    "        df.corr(numeric_only=True), \n",
    "        cmap = colormap,\n",
    "        square=True, \n",
    "        cbar_kws={'shrink':.9 }, \n",
    "        ax=ax,\n",
    "        annot=True, \n",
    "        linewidths=0.1,vmax=1.0, linecolor='white',\n",
    "        annot_kws={'fontsize':12 }\n",
    "    )\n",
    "    \n",
    "    plt.title('Pearson Correlation of Features', y=1.05, size=15)\n",
    "\n",
    "correlation_heatmap(df)\n"
   ]
  },
  {
   "cell_type": "markdown",
   "id": "39a56704",
   "metadata": {
    "papermill": {
     "duration": 0.026824,
     "end_time": "2025-03-30T16:24:10.491651",
     "exception": false,
     "start_time": "2025-03-30T16:24:10.464827",
     "status": "completed"
    },
    "tags": []
   },
   "source": [
    "## Feature Engineering¶"
   ]
  },
  {
   "cell_type": "code",
   "execution_count": 38,
   "id": "6ca9674f",
   "metadata": {
    "execution": {
     "iopub.execute_input": "2025-03-30T16:24:10.548347Z",
     "iopub.status.busy": "2025-03-30T16:24:10.547984Z",
     "iopub.status.idle": "2025-03-30T16:24:11.578615Z",
     "shell.execute_reply": "2025-03-30T16:24:11.577519Z"
    },
    "papermill": {
     "duration": 1.062171,
     "end_time": "2025-03-30T16:24:11.581007",
     "exception": false,
     "start_time": "2025-03-30T16:24:10.518836",
     "status": "completed"
    },
    "tags": []
   },
   "outputs": [],
   "source": [
    "from sklearn.model_selection import train_test_split,GridSearchCV\n",
    "from sklearn.compose import ColumnTransformer\n",
    "from sklearn.preprocessing import OneHotEncoder\n",
    "from sklearn.preprocessing import OrdinalEncoder\n",
    "from sklearn.preprocessing import MinMaxScaler,StandardScaler\n",
    "from sklearn.pipeline import Pipeline,make_pipeline\n",
    "from sklearn.feature_selection import SelectKBest,chi2\n",
    "from sklearn.preprocessing import MinMaxScaler\n",
    "from sklearn.preprocessing import Binarizer\n",
    "from sklearn.preprocessing import KBinsDiscretizer\n",
    "from sklearn.preprocessing import MultiLabelBinarizer\n",
    "from sklearn.metrics import accuracy_score\n",
    "from sklearn import ensemble\n",
    "from sklearn import gaussian_process\n",
    "from sklearn import linear_model\n",
    "from sklearn import naive_bayes\n",
    "from sklearn import neighbors\n",
    "from sklearn import svm\n",
    "from sklearn import tree\n",
    "from sklearn import discriminant_analysis\n",
    "# from xgboost import XGBClassifier\n",
    "from sklearn.model_selection import cross_val_score\n"
   ]
  },
  {
   "cell_type": "code",
   "execution_count": 39,
   "id": "1632d1fd",
   "metadata": {
    "execution": {
     "iopub.execute_input": "2025-03-30T16:24:11.637337Z",
     "iopub.status.busy": "2025-03-30T16:24:11.636927Z",
     "iopub.status.idle": "2025-03-30T16:24:11.651388Z",
     "shell.execute_reply": "2025-03-30T16:24:11.650347Z"
    },
    "papermill": {
     "duration": 0.045325,
     "end_time": "2025-03-30T16:24:11.653662",
     "exception": false,
     "start_time": "2025-03-30T16:24:11.608337",
     "status": "completed"
    },
    "tags": []
   },
   "outputs": [
    {
     "data": {
      "text/html": [
       "<div>\n",
       "<style scoped>\n",
       "    .dataframe tbody tr th:only-of-type {\n",
       "        vertical-align: middle;\n",
       "    }\n",
       "\n",
       "    .dataframe tbody tr th {\n",
       "        vertical-align: top;\n",
       "    }\n",
       "\n",
       "    .dataframe thead th {\n",
       "        text-align: right;\n",
       "    }\n",
       "</style>\n",
       "<table border=\"1\" class=\"dataframe\">\n",
       "  <thead>\n",
       "    <tr style=\"text-align: right;\">\n",
       "      <th></th>\n",
       "      <th>Age</th>\n",
       "      <th>Embarked</th>\n",
       "      <th>Fare</th>\n",
       "      <th>PassengerId</th>\n",
       "      <th>Pclass</th>\n",
       "      <th>Sex</th>\n",
       "      <th>Survived</th>\n",
       "      <th>Title</th>\n",
       "      <th>Family_size</th>\n",
       "    </tr>\n",
       "  </thead>\n",
       "  <tbody>\n",
       "    <tr>\n",
       "      <th>0</th>\n",
       "      <td>22</td>\n",
       "      <td>S</td>\n",
       "      <td>7.2500</td>\n",
       "      <td>1</td>\n",
       "      <td>3</td>\n",
       "      <td>male</td>\n",
       "      <td>0.0</td>\n",
       "      <td>Mr</td>\n",
       "      <td>Small</td>\n",
       "    </tr>\n",
       "    <tr>\n",
       "      <th>1</th>\n",
       "      <td>38</td>\n",
       "      <td>C</td>\n",
       "      <td>71.2833</td>\n",
       "      <td>2</td>\n",
       "      <td>1</td>\n",
       "      <td>female</td>\n",
       "      <td>1.0</td>\n",
       "      <td>Mrs</td>\n",
       "      <td>Small</td>\n",
       "    </tr>\n",
       "    <tr>\n",
       "      <th>2</th>\n",
       "      <td>26</td>\n",
       "      <td>S</td>\n",
       "      <td>7.9250</td>\n",
       "      <td>3</td>\n",
       "      <td>3</td>\n",
       "      <td>female</td>\n",
       "      <td>1.0</td>\n",
       "      <td>Miss</td>\n",
       "      <td>Alone</td>\n",
       "    </tr>\n",
       "    <tr>\n",
       "      <th>3</th>\n",
       "      <td>35</td>\n",
       "      <td>S</td>\n",
       "      <td>53.1000</td>\n",
       "      <td>4</td>\n",
       "      <td>1</td>\n",
       "      <td>female</td>\n",
       "      <td>1.0</td>\n",
       "      <td>Mrs</td>\n",
       "      <td>Small</td>\n",
       "    </tr>\n",
       "    <tr>\n",
       "      <th>4</th>\n",
       "      <td>35</td>\n",
       "      <td>S</td>\n",
       "      <td>8.0500</td>\n",
       "      <td>5</td>\n",
       "      <td>3</td>\n",
       "      <td>male</td>\n",
       "      <td>0.0</td>\n",
       "      <td>Mr</td>\n",
       "      <td>Alone</td>\n",
       "    </tr>\n",
       "  </tbody>\n",
       "</table>\n",
       "</div>"
      ],
      "text/plain": [
       "   Age Embarked     Fare  PassengerId  Pclass     Sex  Survived Title  \\\n",
       "0   22        S   7.2500            1       3    male       0.0    Mr   \n",
       "1   38        C  71.2833            2       1  female       1.0   Mrs   \n",
       "2   26        S   7.9250            3       3  female       1.0  Miss   \n",
       "3   35        S  53.1000            4       1  female       1.0   Mrs   \n",
       "4   35        S   8.0500            5       3    male       0.0    Mr   \n",
       "\n",
       "  Family_size  \n",
       "0       Small  \n",
       "1       Small  \n",
       "2       Alone  \n",
       "3       Small  \n",
       "4       Alone  "
      ]
     },
     "execution_count": 39,
     "metadata": {},
     "output_type": "execute_result"
    }
   ],
   "source": [
    "df.head()"
   ]
  },
  {
   "cell_type": "markdown",
   "id": "ccd9d269",
   "metadata": {
    "papermill": {
     "duration": 0.027503,
     "end_time": "2025-03-30T16:24:11.709031",
     "exception": false,
     "start_time": "2025-03-30T16:24:11.681528",
     "status": "completed"
    },
    "tags": []
   },
   "source": [
    "### Separating the Data into Train and Test Sets\n",
    "\n",
    "We will divide the data into training and testing sets to evaluate the model's performance.\n"
   ]
  },
  {
   "cell_type": "code",
   "execution_count": 40,
   "id": "9d6a4b41",
   "metadata": {
    "execution": {
     "iopub.execute_input": "2025-03-30T16:24:11.766130Z",
     "iopub.status.busy": "2025-03-30T16:24:11.765367Z",
     "iopub.status.idle": "2025-03-30T16:24:11.770901Z",
     "shell.execute_reply": "2025-03-30T16:24:11.769873Z"
    },
    "papermill": {
     "duration": 0.03639,
     "end_time": "2025-03-30T16:24:11.772960",
     "exception": false,
     "start_time": "2025-03-30T16:24:11.736570",
     "status": "completed"
    },
    "tags": []
   },
   "outputs": [],
   "source": [
    "train = df.loc[:890]\n",
    "test = df.loc[891:]"
   ]
  },
  {
   "cell_type": "code",
   "execution_count": 41,
   "id": "66f208f4",
   "metadata": {
    "execution": {
     "iopub.execute_input": "2025-03-30T16:24:11.830089Z",
     "iopub.status.busy": "2025-03-30T16:24:11.829305Z",
     "iopub.status.idle": "2025-03-30T16:24:11.842301Z",
     "shell.execute_reply": "2025-03-30T16:24:11.841123Z"
    },
    "papermill": {
     "duration": 0.04429,
     "end_time": "2025-03-30T16:24:11.844539",
     "exception": false,
     "start_time": "2025-03-30T16:24:11.800249",
     "status": "completed"
    },
    "tags": []
   },
   "outputs": [
    {
     "data": {
      "text/html": [
       "<div>\n",
       "<style scoped>\n",
       "    .dataframe tbody tr th:only-of-type {\n",
       "        vertical-align: middle;\n",
       "    }\n",
       "\n",
       "    .dataframe tbody tr th {\n",
       "        vertical-align: top;\n",
       "    }\n",
       "\n",
       "    .dataframe thead th {\n",
       "        text-align: right;\n",
       "    }\n",
       "</style>\n",
       "<table border=\"1\" class=\"dataframe\">\n",
       "  <thead>\n",
       "    <tr style=\"text-align: right;\">\n",
       "      <th></th>\n",
       "      <th>Age</th>\n",
       "      <th>Embarked</th>\n",
       "      <th>Fare</th>\n",
       "      <th>PassengerId</th>\n",
       "      <th>Pclass</th>\n",
       "      <th>Sex</th>\n",
       "      <th>Survived</th>\n",
       "      <th>Title</th>\n",
       "      <th>Family_size</th>\n",
       "    </tr>\n",
       "  </thead>\n",
       "  <tbody>\n",
       "    <tr>\n",
       "      <th>891</th>\n",
       "      <td>34</td>\n",
       "      <td>Q</td>\n",
       "      <td>7.8292</td>\n",
       "      <td>892</td>\n",
       "      <td>3</td>\n",
       "      <td>male</td>\n",
       "      <td>NaN</td>\n",
       "      <td>Mr</td>\n",
       "      <td>Alone</td>\n",
       "    </tr>\n",
       "    <tr>\n",
       "      <th>892</th>\n",
       "      <td>47</td>\n",
       "      <td>S</td>\n",
       "      <td>7.0000</td>\n",
       "      <td>893</td>\n",
       "      <td>3</td>\n",
       "      <td>female</td>\n",
       "      <td>NaN</td>\n",
       "      <td>Mrs</td>\n",
       "      <td>Small</td>\n",
       "    </tr>\n",
       "    <tr>\n",
       "      <th>893</th>\n",
       "      <td>62</td>\n",
       "      <td>Q</td>\n",
       "      <td>9.6875</td>\n",
       "      <td>894</td>\n",
       "      <td>2</td>\n",
       "      <td>male</td>\n",
       "      <td>NaN</td>\n",
       "      <td>Mr</td>\n",
       "      <td>Alone</td>\n",
       "    </tr>\n",
       "    <tr>\n",
       "      <th>894</th>\n",
       "      <td>27</td>\n",
       "      <td>S</td>\n",
       "      <td>8.6625</td>\n",
       "      <td>895</td>\n",
       "      <td>3</td>\n",
       "      <td>male</td>\n",
       "      <td>NaN</td>\n",
       "      <td>Mr</td>\n",
       "      <td>Alone</td>\n",
       "    </tr>\n",
       "    <tr>\n",
       "      <th>895</th>\n",
       "      <td>22</td>\n",
       "      <td>S</td>\n",
       "      <td>12.2875</td>\n",
       "      <td>896</td>\n",
       "      <td>3</td>\n",
       "      <td>female</td>\n",
       "      <td>NaN</td>\n",
       "      <td>Mrs</td>\n",
       "      <td>Small</td>\n",
       "    </tr>\n",
       "  </tbody>\n",
       "</table>\n",
       "</div>"
      ],
      "text/plain": [
       "     Age Embarked     Fare  PassengerId  Pclass     Sex  Survived Title  \\\n",
       "891   34        Q   7.8292          892       3    male       NaN    Mr   \n",
       "892   47        S   7.0000          893       3  female       NaN   Mrs   \n",
       "893   62        Q   9.6875          894       2    male       NaN    Mr   \n",
       "894   27        S   8.6625          895       3    male       NaN    Mr   \n",
       "895   22        S  12.2875          896       3  female       NaN   Mrs   \n",
       "\n",
       "    Family_size  \n",
       "891       Alone  \n",
       "892       Small  \n",
       "893       Alone  \n",
       "894       Alone  \n",
       "895       Small  "
      ]
     },
     "execution_count": 41,
     "metadata": {},
     "output_type": "execute_result"
    }
   ],
   "source": [
    "test.head()"
   ]
  },
  {
   "cell_type": "code",
   "execution_count": 42,
   "id": "50e6a5bd",
   "metadata": {
    "execution": {
     "iopub.execute_input": "2025-03-30T16:24:11.901688Z",
     "iopub.status.busy": "2025-03-30T16:24:11.901345Z",
     "iopub.status.idle": "2025-03-30T16:24:11.907499Z",
     "shell.execute_reply": "2025-03-30T16:24:11.906347Z"
    },
    "papermill": {
     "duration": 0.037352,
     "end_time": "2025-03-30T16:24:11.909821",
     "exception": false,
     "start_time": "2025-03-30T16:24:11.872469",
     "status": "completed"
    },
    "tags": []
   },
   "outputs": [],
   "source": [
    "test.drop(columns=['Survived'],inplace=True)"
   ]
  },
  {
   "cell_type": "code",
   "execution_count": 43,
   "id": "a29c4dfb",
   "metadata": {
    "execution": {
     "iopub.execute_input": "2025-03-30T16:24:11.967402Z",
     "iopub.status.busy": "2025-03-30T16:24:11.966566Z",
     "iopub.status.idle": "2025-03-30T16:24:11.972566Z",
     "shell.execute_reply": "2025-03-30T16:24:11.971706Z"
    },
    "papermill": {
     "duration": 0.036947,
     "end_time": "2025-03-30T16:24:11.974438",
     "exception": false,
     "start_time": "2025-03-30T16:24:11.937491",
     "status": "completed"
    },
    "tags": []
   },
   "outputs": [],
   "source": [
    "train['Survived'] = train['Survived'].astype('int64')"
   ]
  },
  {
   "cell_type": "code",
   "execution_count": 44,
   "id": "4c305e43",
   "metadata": {
    "execution": {
     "iopub.execute_input": "2025-03-30T16:24:12.032041Z",
     "iopub.status.busy": "2025-03-30T16:24:12.031629Z",
     "iopub.status.idle": "2025-03-30T16:24:12.044246Z",
     "shell.execute_reply": "2025-03-30T16:24:12.043376Z"
    },
    "papermill": {
     "duration": 0.044186,
     "end_time": "2025-03-30T16:24:12.046303",
     "exception": false,
     "start_time": "2025-03-30T16:24:12.002117",
     "status": "completed"
    },
    "tags": []
   },
   "outputs": [
    {
     "data": {
      "text/html": [
       "<div>\n",
       "<style scoped>\n",
       "    .dataframe tbody tr th:only-of-type {\n",
       "        vertical-align: middle;\n",
       "    }\n",
       "\n",
       "    .dataframe tbody tr th {\n",
       "        vertical-align: top;\n",
       "    }\n",
       "\n",
       "    .dataframe thead th {\n",
       "        text-align: right;\n",
       "    }\n",
       "</style>\n",
       "<table border=\"1\" class=\"dataframe\">\n",
       "  <thead>\n",
       "    <tr style=\"text-align: right;\">\n",
       "      <th></th>\n",
       "      <th>Age</th>\n",
       "      <th>Embarked</th>\n",
       "      <th>Fare</th>\n",
       "      <th>PassengerId</th>\n",
       "      <th>Pclass</th>\n",
       "      <th>Sex</th>\n",
       "      <th>Survived</th>\n",
       "      <th>Title</th>\n",
       "      <th>Family_size</th>\n",
       "    </tr>\n",
       "  </thead>\n",
       "  <tbody>\n",
       "    <tr>\n",
       "      <th>0</th>\n",
       "      <td>22</td>\n",
       "      <td>S</td>\n",
       "      <td>7.2500</td>\n",
       "      <td>1</td>\n",
       "      <td>3</td>\n",
       "      <td>male</td>\n",
       "      <td>0</td>\n",
       "      <td>Mr</td>\n",
       "      <td>Small</td>\n",
       "    </tr>\n",
       "    <tr>\n",
       "      <th>1</th>\n",
       "      <td>38</td>\n",
       "      <td>C</td>\n",
       "      <td>71.2833</td>\n",
       "      <td>2</td>\n",
       "      <td>1</td>\n",
       "      <td>female</td>\n",
       "      <td>1</td>\n",
       "      <td>Mrs</td>\n",
       "      <td>Small</td>\n",
       "    </tr>\n",
       "    <tr>\n",
       "      <th>2</th>\n",
       "      <td>26</td>\n",
       "      <td>S</td>\n",
       "      <td>7.9250</td>\n",
       "      <td>3</td>\n",
       "      <td>3</td>\n",
       "      <td>female</td>\n",
       "      <td>1</td>\n",
       "      <td>Miss</td>\n",
       "      <td>Alone</td>\n",
       "    </tr>\n",
       "    <tr>\n",
       "      <th>3</th>\n",
       "      <td>35</td>\n",
       "      <td>S</td>\n",
       "      <td>53.1000</td>\n",
       "      <td>4</td>\n",
       "      <td>1</td>\n",
       "      <td>female</td>\n",
       "      <td>1</td>\n",
       "      <td>Mrs</td>\n",
       "      <td>Small</td>\n",
       "    </tr>\n",
       "    <tr>\n",
       "      <th>4</th>\n",
       "      <td>35</td>\n",
       "      <td>S</td>\n",
       "      <td>8.0500</td>\n",
       "      <td>5</td>\n",
       "      <td>3</td>\n",
       "      <td>male</td>\n",
       "      <td>0</td>\n",
       "      <td>Mr</td>\n",
       "      <td>Alone</td>\n",
       "    </tr>\n",
       "  </tbody>\n",
       "</table>\n",
       "</div>"
      ],
      "text/plain": [
       "   Age Embarked     Fare  PassengerId  Pclass     Sex  Survived Title  \\\n",
       "0   22        S   7.2500            1       3    male         0    Mr   \n",
       "1   38        C  71.2833            2       1  female         1   Mrs   \n",
       "2   26        S   7.9250            3       3  female         1  Miss   \n",
       "3   35        S  53.1000            4       1  female         1   Mrs   \n",
       "4   35        S   8.0500            5       3    male         0    Mr   \n",
       "\n",
       "  Family_size  \n",
       "0       Small  \n",
       "1       Small  \n",
       "2       Alone  \n",
       "3       Small  \n",
       "4       Alone  "
      ]
     },
     "execution_count": 44,
     "metadata": {},
     "output_type": "execute_result"
    }
   ],
   "source": [
    "train.head()"
   ]
  },
  {
   "cell_type": "code",
   "execution_count": 45,
   "id": "f2704b33",
   "metadata": {
    "execution": {
     "iopub.execute_input": "2025-03-30T16:24:12.106541Z",
     "iopub.status.busy": "2025-03-30T16:24:12.106164Z",
     "iopub.status.idle": "2025-03-30T16:24:12.112503Z",
     "shell.execute_reply": "2025-03-30T16:24:12.111500Z"
    },
    "papermill": {
     "duration": 0.038789,
     "end_time": "2025-03-30T16:24:12.114661",
     "exception": false,
     "start_time": "2025-03-30T16:24:12.075872",
     "status": "completed"
    },
    "tags": []
   },
   "outputs": [
    {
     "data": {
      "text/plain": [
       "((891, 9), (418, 8))"
      ]
     },
     "execution_count": 45,
     "metadata": {},
     "output_type": "execute_result"
    }
   ],
   "source": [
    "train.shape,test.shape"
   ]
  },
  {
   "cell_type": "code",
   "execution_count": 46,
   "id": "e9f37445",
   "metadata": {
    "execution": {
     "iopub.execute_input": "2025-03-30T16:24:12.173193Z",
     "iopub.status.busy": "2025-03-30T16:24:12.172835Z",
     "iopub.status.idle": "2025-03-30T16:24:12.178997Z",
     "shell.execute_reply": "2025-03-30T16:24:12.177812Z"
    },
    "papermill": {
     "duration": 0.038131,
     "end_time": "2025-03-30T16:24:12.181053",
     "exception": false,
     "start_time": "2025-03-30T16:24:12.142922",
     "status": "completed"
    },
    "tags": []
   },
   "outputs": [],
   "source": [
    "train = train.drop(\"PassengerId\", axis=1)"
   ]
  },
  {
   "cell_type": "code",
   "execution_count": 47,
   "id": "5759561a",
   "metadata": {
    "execution": {
     "iopub.execute_input": "2025-03-30T16:24:12.241679Z",
     "iopub.status.busy": "2025-03-30T16:24:12.241302Z",
     "iopub.status.idle": "2025-03-30T16:24:12.248533Z",
     "shell.execute_reply": "2025-03-30T16:24:12.247188Z"
    },
    "papermill": {
     "duration": 0.0412,
     "end_time": "2025-03-30T16:24:12.250888",
     "exception": false,
     "start_time": "2025-03-30T16:24:12.209688",
     "status": "completed"
    },
    "tags": []
   },
   "outputs": [],
   "source": [
    "X_train = train.drop(\"Survived\", axis=1)\n",
    "y_train = train[\"Survived\"]"
   ]
  },
  {
   "cell_type": "code",
   "execution_count": 48,
   "id": "06405d49",
   "metadata": {
    "execution": {
     "iopub.execute_input": "2025-03-30T16:24:12.309611Z",
     "iopub.status.busy": "2025-03-30T16:24:12.309244Z",
     "iopub.status.idle": "2025-03-30T16:24:12.321535Z",
     "shell.execute_reply": "2025-03-30T16:24:12.320525Z"
    },
    "papermill": {
     "duration": 0.044366,
     "end_time": "2025-03-30T16:24:12.323986",
     "exception": false,
     "start_time": "2025-03-30T16:24:12.279620",
     "status": "completed"
    },
    "tags": []
   },
   "outputs": [
    {
     "data": {
      "text/html": [
       "<div>\n",
       "<style scoped>\n",
       "    .dataframe tbody tr th:only-of-type {\n",
       "        vertical-align: middle;\n",
       "    }\n",
       "\n",
       "    .dataframe tbody tr th {\n",
       "        vertical-align: top;\n",
       "    }\n",
       "\n",
       "    .dataframe thead th {\n",
       "        text-align: right;\n",
       "    }\n",
       "</style>\n",
       "<table border=\"1\" class=\"dataframe\">\n",
       "  <thead>\n",
       "    <tr style=\"text-align: right;\">\n",
       "      <th></th>\n",
       "      <th>Age</th>\n",
       "      <th>Embarked</th>\n",
       "      <th>Fare</th>\n",
       "      <th>Pclass</th>\n",
       "      <th>Sex</th>\n",
       "      <th>Title</th>\n",
       "      <th>Family_size</th>\n",
       "    </tr>\n",
       "  </thead>\n",
       "  <tbody>\n",
       "    <tr>\n",
       "      <th>0</th>\n",
       "      <td>22</td>\n",
       "      <td>S</td>\n",
       "      <td>7.2500</td>\n",
       "      <td>3</td>\n",
       "      <td>male</td>\n",
       "      <td>Mr</td>\n",
       "      <td>Small</td>\n",
       "    </tr>\n",
       "    <tr>\n",
       "      <th>1</th>\n",
       "      <td>38</td>\n",
       "      <td>C</td>\n",
       "      <td>71.2833</td>\n",
       "      <td>1</td>\n",
       "      <td>female</td>\n",
       "      <td>Mrs</td>\n",
       "      <td>Small</td>\n",
       "    </tr>\n",
       "    <tr>\n",
       "      <th>2</th>\n",
       "      <td>26</td>\n",
       "      <td>S</td>\n",
       "      <td>7.9250</td>\n",
       "      <td>3</td>\n",
       "      <td>female</td>\n",
       "      <td>Miss</td>\n",
       "      <td>Alone</td>\n",
       "    </tr>\n",
       "    <tr>\n",
       "      <th>3</th>\n",
       "      <td>35</td>\n",
       "      <td>S</td>\n",
       "      <td>53.1000</td>\n",
       "      <td>1</td>\n",
       "      <td>female</td>\n",
       "      <td>Mrs</td>\n",
       "      <td>Small</td>\n",
       "    </tr>\n",
       "    <tr>\n",
       "      <th>4</th>\n",
       "      <td>35</td>\n",
       "      <td>S</td>\n",
       "      <td>8.0500</td>\n",
       "      <td>3</td>\n",
       "      <td>male</td>\n",
       "      <td>Mr</td>\n",
       "      <td>Alone</td>\n",
       "    </tr>\n",
       "  </tbody>\n",
       "</table>\n",
       "</div>"
      ],
      "text/plain": [
       "   Age Embarked     Fare  Pclass     Sex Title Family_size\n",
       "0   22        S   7.2500       3    male    Mr       Small\n",
       "1   38        C  71.2833       1  female   Mrs       Small\n",
       "2   26        S   7.9250       3  female  Miss       Alone\n",
       "3   35        S  53.1000       1  female   Mrs       Small\n",
       "4   35        S   8.0500       3    male    Mr       Alone"
      ]
     },
     "execution_count": 48,
     "metadata": {},
     "output_type": "execute_result"
    }
   ],
   "source": [
    "X_train.head()"
   ]
  },
  {
   "cell_type": "code",
   "execution_count": 49,
   "id": "f574c972",
   "metadata": {
    "execution": {
     "iopub.execute_input": "2025-03-30T16:24:12.385701Z",
     "iopub.status.busy": "2025-03-30T16:24:12.385338Z",
     "iopub.status.idle": "2025-03-30T16:24:12.392364Z",
     "shell.execute_reply": "2025-03-30T16:24:12.391109Z"
    },
    "papermill": {
     "duration": 0.04125,
     "end_time": "2025-03-30T16:24:12.394785",
     "exception": false,
     "start_time": "2025-03-30T16:24:12.353535",
     "status": "completed"
    },
    "tags": []
   },
   "outputs": [
    {
     "data": {
      "text/plain": [
       "((891, 7), (891,))"
      ]
     },
     "execution_count": 49,
     "metadata": {},
     "output_type": "execute_result"
    }
   ],
   "source": [
    "X_train.shape,y_train.shape"
   ]
  },
  {
   "cell_type": "markdown",
   "id": "9b1656de",
   "metadata": {
    "papermill": {
     "duration": 0.029468,
     "end_time": "2025-03-30T16:24:12.454391",
     "exception": false,
     "start_time": "2025-03-30T16:24:12.424923",
     "status": "completed"
    },
    "tags": []
   },
   "source": [
    "### Creating a Pipeline with Column Transformer\n",
    "\n",
    "We will build a pipeline that incorporates a Column Transformer to streamline preprocessing and feature engineering.\n"
   ]
  },
  {
   "cell_type": "code",
   "execution_count": 50,
   "id": "e8d71061",
   "metadata": {
    "execution": {
     "iopub.execute_input": "2025-03-30T16:24:12.513884Z",
     "iopub.status.busy": "2025-03-30T16:24:12.513477Z",
     "iopub.status.idle": "2025-03-30T16:24:12.519211Z",
     "shell.execute_reply": "2025-03-30T16:24:12.518197Z"
    },
    "papermill": {
     "duration": 0.037856,
     "end_time": "2025-03-30T16:24:12.521115",
     "exception": false,
     "start_time": "2025-03-30T16:24:12.483259",
     "status": "completed"
    },
    "tags": []
   },
   "outputs": [],
   "source": [
    "num_cat_tranformation=ColumnTransformer([\n",
    "                                    ('scaling',MinMaxScaler(),[0,2]),\n",
    "                                    ('onehotencolding1',OneHotEncoder(),[1,3]),\n",
    "                                    ('ordinal',OrdinalEncoder(),[4]),\n",
    "                                    ('onehotencolding2',OneHotEncoder(),[5,6])\n",
    "                                    ],remainder='passthrough')"
   ]
  },
  {
   "cell_type": "code",
   "execution_count": 51,
   "id": "8fb8c247",
   "metadata": {
    "execution": {
     "iopub.execute_input": "2025-03-30T16:24:12.582923Z",
     "iopub.status.busy": "2025-03-30T16:24:12.582528Z",
     "iopub.status.idle": "2025-03-30T16:24:12.588109Z",
     "shell.execute_reply": "2025-03-30T16:24:12.587089Z"
    },
    "papermill": {
     "duration": 0.038379,
     "end_time": "2025-03-30T16:24:12.590256",
     "exception": false,
     "start_time": "2025-03-30T16:24:12.551877",
     "status": "completed"
    },
    "tags": []
   },
   "outputs": [],
   "source": [
    "bins=ColumnTransformer([\n",
    "                        ('Kbins',KBinsDiscretizer(n_bins=15,encode='ordinal',strategy='quantile'),[0,2]),\n",
    "                        ],remainder='passthrough')"
   ]
  },
  {
   "cell_type": "code",
   "execution_count": 52,
   "id": "99c67856",
   "metadata": {
    "execution": {
     "iopub.execute_input": "2025-03-30T16:24:12.651877Z",
     "iopub.status.busy": "2025-03-30T16:24:12.651483Z",
     "iopub.status.idle": "2025-03-30T16:24:12.656191Z",
     "shell.execute_reply": "2025-03-30T16:24:12.655306Z"
    },
    "papermill": {
     "duration": 0.037472,
     "end_time": "2025-03-30T16:24:12.658075",
     "exception": false,
     "start_time": "2025-03-30T16:24:12.620603",
     "status": "completed"
    },
    "tags": []
   },
   "outputs": [],
   "source": [
    "from sklearn import set_config\n",
    "set_config(display='diagram')"
   ]
  },
  {
   "cell_type": "code",
   "execution_count": 53,
   "id": "2b7cea05",
   "metadata": {
    "execution": {
     "iopub.execute_input": "2025-03-30T16:24:12.717959Z",
     "iopub.status.busy": "2025-03-30T16:24:12.717572Z",
     "iopub.status.idle": "2025-03-30T16:24:12.725559Z",
     "shell.execute_reply": "2025-03-30T16:24:12.724447Z"
    },
    "papermill": {
     "duration": 0.040481,
     "end_time": "2025-03-30T16:24:12.727818",
     "exception": false,
     "start_time": "2025-03-30T16:24:12.687337",
     "status": "completed"
    },
    "tags": []
   },
   "outputs": [],
   "source": [
    "from sklearn.model_selection import train_test_split\n",
    "X_train, X_test, y_train, y_test=train_test_split(X_train,y_train,test_size=0.2)"
   ]
  },
  {
   "cell_type": "code",
   "execution_count": 54,
   "id": "e681fc1d",
   "metadata": {
    "execution": {
     "iopub.execute_input": "2025-03-30T16:24:12.786809Z",
     "iopub.status.busy": "2025-03-30T16:24:12.786443Z",
     "iopub.status.idle": "2025-03-30T16:24:12.791519Z",
     "shell.execute_reply": "2025-03-30T16:24:12.790527Z"
    },
    "papermill": {
     "duration": 0.036951,
     "end_time": "2025-03-30T16:24:12.793546",
     "exception": false,
     "start_time": "2025-03-30T16:24:12.756595",
     "status": "completed"
    },
    "tags": []
   },
   "outputs": [],
   "source": [
    "def create_pipeline(algo):\n",
    "    return Pipeline([\n",
    "        ('num_cat_transformation', num_cat_tranformation),\n",
    "        ('bins', bins),\n",
    "        ('classifier', algo)\n",
    "    ])"
   ]
  },
  {
   "cell_type": "markdown",
   "id": "4fb82e62",
   "metadata": {
    "papermill": {
     "duration": 0.029211,
     "end_time": "2025-03-30T16:24:12.852645",
     "exception": false,
     "start_time": "2025-03-30T16:24:12.823434",
     "status": "completed"
    },
    "tags": []
   },
   "source": [
    "## Model Training"
   ]
  },
  {
   "cell_type": "markdown",
   "id": "ea234d5b",
   "metadata": {
    "papermill": {
     "duration": 0.029016,
     "end_time": "2025-03-30T16:24:12.911075",
     "exception": false,
     "start_time": "2025-03-30T16:24:12.882059",
     "status": "completed"
    },
    "tags": []
   },
   "source": [
    "### Evaluating Various Machine Learning Models to Find the Best Performer\n",
    "\n",
    "We will test different machine learning models to identify which one provides the best performance for our data.\n"
   ]
  },
  {
   "cell_type": "code",
   "execution_count": 55,
   "id": "9588e442",
   "metadata": {
    "execution": {
     "iopub.execute_input": "2025-03-30T16:24:12.970068Z",
     "iopub.status.busy": "2025-03-30T16:24:12.969675Z",
     "iopub.status.idle": "2025-03-30T16:24:12.976979Z",
     "shell.execute_reply": "2025-03-30T16:24:12.975956Z"
    },
    "papermill": {
     "duration": 0.039401,
     "end_time": "2025-03-30T16:24:12.979223",
     "exception": false,
     "start_time": "2025-03-30T16:24:12.939822",
     "status": "completed"
    },
    "tags": []
   },
   "outputs": [],
   "source": [
    "algorithms=[\n",
    "    # Ensemble Methods\n",
    "    ensemble.AdaBoostClassifier(),\n",
    "    ensemble.BaggingClassifier(),\n",
    "    ensemble.ExtraTreesClassifier(),\n",
    "    ensemble.GradientBoostingClassifier(),\n",
    "    ensemble.RandomForestClassifier(),\n",
    "\n",
    "    # Gaussian Processes\n",
    "    gaussian_process.GaussianProcessClassifier(),\n",
    "    \n",
    "    # GLM\n",
    "    linear_model.LogisticRegressionCV(),\n",
    "    linear_model.PassiveAggressiveClassifier(),\n",
    "    linear_model.RidgeClassifierCV(),\n",
    "    linear_model.SGDClassifier(),\n",
    "    linear_model.Perceptron(),\n",
    "    \n",
    "    # Naive Bayes\n",
    "    naive_bayes.BernoulliNB(),\n",
    "    naive_bayes.GaussianNB(),\n",
    "    \n",
    "    # Nearest Neighbor\n",
    "    neighbors.KNeighborsClassifier(),\n",
    "    \n",
    "    # SVM\n",
    "    svm.SVC(probability=True),\n",
    "    svm.NuSVC(probability=True),\n",
    "    svm.LinearSVC(),\n",
    "    \n",
    "    # Trees    \n",
    "    tree.DecisionTreeClassifier(),\n",
    "    tree.ExtraTreeClassifier(),\n",
    "    \n",
    "    # Discriminant Analysis\n",
    "    discriminant_analysis.LinearDiscriminantAnalysis(),\n",
    "    discriminant_analysis.QuadraticDiscriminantAnalysis(),\n",
    "    \n",
    "    # XGBoost\n",
    "    ## XGBClassifier()\n",
    "]"
   ]
  },
  {
   "cell_type": "code",
   "execution_count": 56,
   "id": "a483ca8a",
   "metadata": {
    "execution": {
     "iopub.execute_input": "2025-03-30T16:24:13.046884Z",
     "iopub.status.busy": "2025-03-30T16:24:13.046078Z",
     "iopub.status.idle": "2025-03-30T16:24:24.409124Z",
     "shell.execute_reply": "2025-03-30T16:24:24.408268Z"
    },
    "papermill": {
     "duration": 11.399297,
     "end_time": "2025-03-30T16:24:24.411925",
     "exception": false,
     "start_time": "2025-03-30T16:24:13.012628",
     "status": "completed"
    },
    "tags": []
   },
   "outputs": [],
   "source": [
    "model_names = []\n",
    "CV_Accuracy=[]\n",
    "for algo in algorithms:\n",
    "    pipeline = create_pipeline(algo)\n",
    "    scores = cross_val_score(pipeline, X_train, y_train, cv=5)\n",
    "    model_names.append(algo.__class__.__name__)\n",
    "    CV_Accuracy.append(scores.mean())\n",
    "    \n",
    "#     print(f'Model: {algo.__class__.__name__}, CV Accuracy: {scores.mean()}')\n",
    "#     print('\\n')"
   ]
  },
  {
   "cell_type": "code",
   "execution_count": 57,
   "id": "cb204ba8",
   "metadata": {
    "execution": {
     "iopub.execute_input": "2025-03-30T16:24:24.473800Z",
     "iopub.status.busy": "2025-03-30T16:24:24.473402Z",
     "iopub.status.idle": "2025-03-30T16:24:24.479085Z",
     "shell.execute_reply": "2025-03-30T16:24:24.477890Z"
    },
    "papermill": {
     "duration": 0.037906,
     "end_time": "2025-03-30T16:24:24.481315",
     "exception": false,
     "start_time": "2025-03-30T16:24:24.443409",
     "status": "completed"
    },
    "tags": []
   },
   "outputs": [],
   "source": [
    "model_df = pd.DataFrame({\n",
    "    'Model': model_names,\n",
    "    'Accuracy': CV_Accuracy})"
   ]
  },
  {
   "cell_type": "code",
   "execution_count": 58,
   "id": "ea89e849",
   "metadata": {
    "execution": {
     "iopub.execute_input": "2025-03-30T16:24:24.542588Z",
     "iopub.status.busy": "2025-03-30T16:24:24.542151Z",
     "iopub.status.idle": "2025-03-30T16:24:24.549110Z",
     "shell.execute_reply": "2025-03-30T16:24:24.547848Z"
    },
    "papermill": {
     "duration": 0.040512,
     "end_time": "2025-03-30T16:24:24.551435",
     "exception": false,
     "start_time": "2025-03-30T16:24:24.510923",
     "status": "completed"
    },
    "tags": []
   },
   "outputs": [],
   "source": [
    "model_df.sort_values(by='Accuracy', ascending=False, inplace=True)"
   ]
  },
  {
   "cell_type": "markdown",
   "id": "d93ac9df",
   "metadata": {
    "papermill": {
     "duration": 0.030115,
     "end_time": "2025-03-30T16:24:24.614043",
     "exception": false,
     "start_time": "2025-03-30T16:24:24.583928",
     "status": "completed"
    },
    "tags": []
   },
   "source": [
    "### Tuning the Top 3 Machine Learning Models for Better Results\n",
    "\n",
    "We will focus on tuning the top 3 performing models from our data frame to enhance their performance and achieve better results.\n"
   ]
  },
  {
   "cell_type": "code",
   "execution_count": 59,
   "id": "ebfebad4",
   "metadata": {
    "execution": {
     "iopub.execute_input": "2025-03-30T16:24:24.676931Z",
     "iopub.status.busy": "2025-03-30T16:24:24.676546Z",
     "iopub.status.idle": "2025-03-30T16:24:24.688460Z",
     "shell.execute_reply": "2025-03-30T16:24:24.687247Z"
    },
    "papermill": {
     "duration": 0.046123,
     "end_time": "2025-03-30T16:24:24.690641",
     "exception": false,
     "start_time": "2025-03-30T16:24:24.644518",
     "status": "completed"
    },
    "tags": []
   },
   "outputs": [
    {
     "data": {
      "text/html": [
       "<div>\n",
       "<style scoped>\n",
       "    .dataframe tbody tr th:only-of-type {\n",
       "        vertical-align: middle;\n",
       "    }\n",
       "\n",
       "    .dataframe tbody tr th {\n",
       "        vertical-align: top;\n",
       "    }\n",
       "\n",
       "    .dataframe thead th {\n",
       "        text-align: right;\n",
       "    }\n",
       "</style>\n",
       "<table border=\"1\" class=\"dataframe\">\n",
       "  <thead>\n",
       "    <tr style=\"text-align: right;\">\n",
       "      <th></th>\n",
       "      <th>Model</th>\n",
       "      <th>Accuracy</th>\n",
       "    </tr>\n",
       "  </thead>\n",
       "  <tbody>\n",
       "    <tr>\n",
       "      <th>0</th>\n",
       "      <td>AdaBoostClassifier</td>\n",
       "      <td>0.825766</td>\n",
       "    </tr>\n",
       "    <tr>\n",
       "      <th>19</th>\n",
       "      <td>LinearDiscriminantAnalysis</td>\n",
       "      <td>0.824357</td>\n",
       "    </tr>\n",
       "    <tr>\n",
       "      <th>8</th>\n",
       "      <td>RidgeClassifierCV</td>\n",
       "      <td>0.824357</td>\n",
       "    </tr>\n",
       "    <tr>\n",
       "      <th>1</th>\n",
       "      <td>BaggingClassifier</td>\n",
       "      <td>0.824338</td>\n",
       "    </tr>\n",
       "    <tr>\n",
       "      <th>3</th>\n",
       "      <td>GradientBoostingClassifier</td>\n",
       "      <td>0.823008</td>\n",
       "    </tr>\n",
       "    <tr>\n",
       "      <th>16</th>\n",
       "      <td>LinearSVC</td>\n",
       "      <td>0.822949</td>\n",
       "    </tr>\n",
       "    <tr>\n",
       "      <th>5</th>\n",
       "      <td>GaussianProcessClassifier</td>\n",
       "      <td>0.820191</td>\n",
       "    </tr>\n",
       "    <tr>\n",
       "      <th>13</th>\n",
       "      <td>KNeighborsClassifier</td>\n",
       "      <td>0.818783</td>\n",
       "    </tr>\n",
       "    <tr>\n",
       "      <th>6</th>\n",
       "      <td>LogisticRegressionCV</td>\n",
       "      <td>0.818733</td>\n",
       "    </tr>\n",
       "    <tr>\n",
       "      <th>15</th>\n",
       "      <td>NuSVC</td>\n",
       "      <td>0.814538</td>\n",
       "    </tr>\n",
       "    <tr>\n",
       "      <th>4</th>\n",
       "      <td>RandomForestClassifier</td>\n",
       "      <td>0.810302</td>\n",
       "    </tr>\n",
       "    <tr>\n",
       "      <th>14</th>\n",
       "      <td>SVC</td>\n",
       "      <td>0.808914</td>\n",
       "    </tr>\n",
       "    <tr>\n",
       "      <th>12</th>\n",
       "      <td>GaussianNB</td>\n",
       "      <td>0.807515</td>\n",
       "    </tr>\n",
       "    <tr>\n",
       "      <th>17</th>\n",
       "      <td>DecisionTreeClassifier</td>\n",
       "      <td>0.803250</td>\n",
       "    </tr>\n",
       "    <tr>\n",
       "      <th>11</th>\n",
       "      <td>BernoulliNB</td>\n",
       "      <td>0.800502</td>\n",
       "    </tr>\n",
       "    <tr>\n",
       "      <th>10</th>\n",
       "      <td>Perceptron</td>\n",
       "      <td>0.790555</td>\n",
       "    </tr>\n",
       "    <tr>\n",
       "      <th>2</th>\n",
       "      <td>ExtraTreesClassifier</td>\n",
       "      <td>0.787816</td>\n",
       "    </tr>\n",
       "    <tr>\n",
       "      <th>18</th>\n",
       "      <td>ExtraTreeClassifier</td>\n",
       "      <td>0.776549</td>\n",
       "    </tr>\n",
       "    <tr>\n",
       "      <th>7</th>\n",
       "      <td>PassiveAggressiveClassifier</td>\n",
       "      <td>0.733153</td>\n",
       "    </tr>\n",
       "    <tr>\n",
       "      <th>9</th>\n",
       "      <td>SGDClassifier</td>\n",
       "      <td>0.703565</td>\n",
       "    </tr>\n",
       "    <tr>\n",
       "      <th>20</th>\n",
       "      <td>QuadraticDiscriminantAnalysis</td>\n",
       "      <td>0.541978</td>\n",
       "    </tr>\n",
       "  </tbody>\n",
       "</table>\n",
       "</div>"
      ],
      "text/plain": [
       "                            Model  Accuracy\n",
       "0              AdaBoostClassifier  0.825766\n",
       "19     LinearDiscriminantAnalysis  0.824357\n",
       "8               RidgeClassifierCV  0.824357\n",
       "1               BaggingClassifier  0.824338\n",
       "3      GradientBoostingClassifier  0.823008\n",
       "16                      LinearSVC  0.822949\n",
       "5       GaussianProcessClassifier  0.820191\n",
       "13           KNeighborsClassifier  0.818783\n",
       "6            LogisticRegressionCV  0.818733\n",
       "15                          NuSVC  0.814538\n",
       "4          RandomForestClassifier  0.810302\n",
       "14                            SVC  0.808914\n",
       "12                     GaussianNB  0.807515\n",
       "17         DecisionTreeClassifier  0.803250\n",
       "11                    BernoulliNB  0.800502\n",
       "10                     Perceptron  0.790555\n",
       "2            ExtraTreesClassifier  0.787816\n",
       "18            ExtraTreeClassifier  0.776549\n",
       "7     PassiveAggressiveClassifier  0.733153\n",
       "9                   SGDClassifier  0.703565\n",
       "20  QuadraticDiscriminantAnalysis  0.541978"
      ]
     },
     "execution_count": 59,
     "metadata": {},
     "output_type": "execute_result"
    }
   ],
   "source": [
    "model_df"
   ]
  },
  {
   "cell_type": "code",
   "execution_count": 65,
   "id": "d4ed33ed",
   "metadata": {
    "execution": {
     "iopub.execute_input": "2025-03-30T16:24:24.755466Z",
     "iopub.status.busy": "2025-03-30T16:24:24.755055Z",
     "iopub.status.idle": "2025-03-30T16:24:24.761215Z",
     "shell.execute_reply": "2025-03-30T16:24:24.760167Z"
    },
    "papermill": {
     "duration": 0.041164,
     "end_time": "2025-03-30T16:24:24.763443",
     "exception": false,
     "start_time": "2025-03-30T16:24:24.722279",
     "status": "completed"
    },
    "tags": []
   },
   "outputs": [],
   "source": [
    "algo1 = ensemble.RandomForestClassifier(criterion='gini',\n",
    "                                           n_estimators=1750,\n",
    "                                           max_depth=7,\n",
    "                                           min_samples_split=6,\n",
    "                                           min_samples_leaf=6,\n",
    "                                           max_features='sqrt',\n",
    "                                           oob_score=True,\n",
    "                                           random_state=42,\n",
    "                                           n_jobs=-1,\n",
    "                                           verbose=1) \n",
    "\n",
    "algo2 =ensemble.GradientBoostingClassifier(max_depth= 1, max_features='auto', n_estimators=3, random_state=42, warm_start= True)\n",
    "algo3=linear_model.RidgeClassifierCV()"
   ]
  },
  {
   "cell_type": "code",
   "execution_count": 66,
   "id": "bda8fc36",
   "metadata": {
    "execution": {
     "iopub.execute_input": "2025-03-30T16:24:24.825098Z",
     "iopub.status.busy": "2025-03-30T16:24:24.824686Z",
     "iopub.status.idle": "2025-03-30T16:24:24.829655Z",
     "shell.execute_reply": "2025-03-30T16:24:24.828788Z"
    },
    "papermill": {
     "duration": 0.038341,
     "end_time": "2025-03-30T16:24:24.831873",
     "exception": false,
     "start_time": "2025-03-30T16:24:24.793532",
     "status": "completed"
    },
    "tags": []
   },
   "outputs": [],
   "source": [
    "pipe1=Pipeline([\n",
    "        ('num_cat_transformation', num_cat_tranformation),\n",
    "        ('bins', bins),\n",
    "        ('classifier', algo1)\n",
    "    ])"
   ]
  },
  {
   "cell_type": "code",
   "execution_count": 67,
   "id": "09e128f1",
   "metadata": {
    "execution": {
     "iopub.execute_input": "2025-03-30T16:24:24.892355Z",
     "iopub.status.busy": "2025-03-30T16:24:24.891977Z",
     "iopub.status.idle": "2025-03-30T16:24:31.223054Z",
     "shell.execute_reply": "2025-03-30T16:24:31.221805Z"
    },
    "papermill": {
     "duration": 6.364432,
     "end_time": "2025-03-30T16:24:31.225620",
     "exception": false,
     "start_time": "2025-03-30T16:24:24.861188",
     "status": "completed"
    },
    "tags": []
   },
   "outputs": [
    {
     "name": "stderr",
     "output_type": "stream",
     "text": [
      "[Parallel(n_jobs=-1)]: Using backend ThreadingBackend with 20 concurrent workers.\n",
      "[Parallel(n_jobs=-1)]: Done  10 tasks      | elapsed:    0.0s\n",
      "[Parallel(n_jobs=-1)]: Done 160 tasks      | elapsed:    0.1s\n",
      "[Parallel(n_jobs=-1)]: Done 410 tasks      | elapsed:    0.4s\n",
      "[Parallel(n_jobs=-1)]: Done 760 tasks      | elapsed:    0.8s\n",
      "[Parallel(n_jobs=-1)]: Done 1210 tasks      | elapsed:    1.3s\n",
      "[Parallel(n_jobs=-1)]: Done 1750 out of 1750 | elapsed:    2.0s finished\n"
     ]
    },
    {
     "data": {
      "text/html": [
       "<style>#sk-container-id-1 {color: black;}#sk-container-id-1 pre{padding: 0;}#sk-container-id-1 div.sk-toggleable {background-color: white;}#sk-container-id-1 label.sk-toggleable__label {cursor: pointer;display: block;width: 100%;margin-bottom: 0;padding: 0.3em;box-sizing: border-box;text-align: center;}#sk-container-id-1 label.sk-toggleable__label-arrow:before {content: \"▸\";float: left;margin-right: 0.25em;color: #696969;}#sk-container-id-1 label.sk-toggleable__label-arrow:hover:before {color: black;}#sk-container-id-1 div.sk-estimator:hover label.sk-toggleable__label-arrow:before {color: black;}#sk-container-id-1 div.sk-toggleable__content {max-height: 0;max-width: 0;overflow: hidden;text-align: left;background-color: #f0f8ff;}#sk-container-id-1 div.sk-toggleable__content pre {margin: 0.2em;color: black;border-radius: 0.25em;background-color: #f0f8ff;}#sk-container-id-1 input.sk-toggleable__control:checked~div.sk-toggleable__content {max-height: 200px;max-width: 100%;overflow: auto;}#sk-container-id-1 input.sk-toggleable__control:checked~label.sk-toggleable__label-arrow:before {content: \"▾\";}#sk-container-id-1 div.sk-estimator input.sk-toggleable__control:checked~label.sk-toggleable__label {background-color: #d4ebff;}#sk-container-id-1 div.sk-label input.sk-toggleable__control:checked~label.sk-toggleable__label {background-color: #d4ebff;}#sk-container-id-1 input.sk-hidden--visually {border: 0;clip: rect(1px 1px 1px 1px);clip: rect(1px, 1px, 1px, 1px);height: 1px;margin: -1px;overflow: hidden;padding: 0;position: absolute;width: 1px;}#sk-container-id-1 div.sk-estimator {font-family: monospace;background-color: #f0f8ff;border: 1px dotted black;border-radius: 0.25em;box-sizing: border-box;margin-bottom: 0.5em;}#sk-container-id-1 div.sk-estimator:hover {background-color: #d4ebff;}#sk-container-id-1 div.sk-parallel-item::after {content: \"\";width: 100%;border-bottom: 1px solid gray;flex-grow: 1;}#sk-container-id-1 div.sk-label:hover label.sk-toggleable__label {background-color: #d4ebff;}#sk-container-id-1 div.sk-serial::before {content: \"\";position: absolute;border-left: 1px solid gray;box-sizing: border-box;top: 0;bottom: 0;left: 50%;z-index: 0;}#sk-container-id-1 div.sk-serial {display: flex;flex-direction: column;align-items: center;background-color: white;padding-right: 0.2em;padding-left: 0.2em;position: relative;}#sk-container-id-1 div.sk-item {position: relative;z-index: 1;}#sk-container-id-1 div.sk-parallel {display: flex;align-items: stretch;justify-content: center;background-color: white;position: relative;}#sk-container-id-1 div.sk-item::before, #sk-container-id-1 div.sk-parallel-item::before {content: \"\";position: absolute;border-left: 1px solid gray;box-sizing: border-box;top: 0;bottom: 0;left: 50%;z-index: -1;}#sk-container-id-1 div.sk-parallel-item {display: flex;flex-direction: column;z-index: 1;position: relative;background-color: white;}#sk-container-id-1 div.sk-parallel-item:first-child::after {align-self: flex-end;width: 50%;}#sk-container-id-1 div.sk-parallel-item:last-child::after {align-self: flex-start;width: 50%;}#sk-container-id-1 div.sk-parallel-item:only-child::after {width: 0;}#sk-container-id-1 div.sk-dashed-wrapped {border: 1px dashed gray;margin: 0 0.4em 0.5em 0.4em;box-sizing: border-box;padding-bottom: 0.4em;background-color: white;}#sk-container-id-1 div.sk-label label {font-family: monospace;font-weight: bold;display: inline-block;line-height: 1.2em;}#sk-container-id-1 div.sk-label-container {text-align: center;}#sk-container-id-1 div.sk-container {/* jupyter's `normalize.less` sets `[hidden] { display: none; }` but bootstrap.min.css set `[hidden] { display: none !important; }` so we also need the `!important` here to be able to override the default hidden behavior on the sphinx rendered scikit-learn.org. See: https://github.com/scikit-learn/scikit-learn/issues/21755 */display: inline-block !important;position: relative;}#sk-container-id-1 div.sk-text-repr-fallback {display: none;}</style><div id=\"sk-container-id-1\" class=\"sk-top-container\"><div class=\"sk-text-repr-fallback\"><pre>Pipeline(steps=[(&#x27;num_cat_transformation&#x27;,\n",
       "                 ColumnTransformer(remainder=&#x27;passthrough&#x27;,\n",
       "                                   transformers=[(&#x27;scaling&#x27;, MinMaxScaler(),\n",
       "                                                  [0, 2]),\n",
       "                                                 (&#x27;onehotencolding1&#x27;,\n",
       "                                                  OneHotEncoder(), [1, 3]),\n",
       "                                                 (&#x27;ordinal&#x27;, OrdinalEncoder(),\n",
       "                                                  [4]),\n",
       "                                                 (&#x27;onehotencolding2&#x27;,\n",
       "                                                  OneHotEncoder(), [5, 6])])),\n",
       "                (&#x27;bins&#x27;,\n",
       "                 ColumnTransformer(remainder=&#x27;passthrough&#x27;,\n",
       "                                   transformers=[(&#x27;Kbins&#x27;,\n",
       "                                                  KBinsDiscretizer(encode=&#x27;ordinal&#x27;,\n",
       "                                                                   n_bins=15),\n",
       "                                                  [0, 2])])),\n",
       "                (&#x27;classifier&#x27;,\n",
       "                 RandomForestClassifier(max_depth=7, min_samples_leaf=6,\n",
       "                                        min_samples_split=6, n_estimators=1750,\n",
       "                                        n_jobs=-1, oob_score=True,\n",
       "                                        random_state=42, verbose=1))])</pre><b>In a Jupyter environment, please rerun this cell to show the HTML representation or trust the notebook. <br />On GitHub, the HTML representation is unable to render, please try loading this page with nbviewer.org.</b></div><div class=\"sk-container\" hidden><div class=\"sk-item sk-dashed-wrapped\"><div class=\"sk-label-container\"><div class=\"sk-label sk-toggleable\"><input class=\"sk-toggleable__control sk-hidden--visually\" id=\"sk-estimator-id-1\" type=\"checkbox\" ><label for=\"sk-estimator-id-1\" class=\"sk-toggleable__label sk-toggleable__label-arrow\">Pipeline</label><div class=\"sk-toggleable__content\"><pre>Pipeline(steps=[(&#x27;num_cat_transformation&#x27;,\n",
       "                 ColumnTransformer(remainder=&#x27;passthrough&#x27;,\n",
       "                                   transformers=[(&#x27;scaling&#x27;, MinMaxScaler(),\n",
       "                                                  [0, 2]),\n",
       "                                                 (&#x27;onehotencolding1&#x27;,\n",
       "                                                  OneHotEncoder(), [1, 3]),\n",
       "                                                 (&#x27;ordinal&#x27;, OrdinalEncoder(),\n",
       "                                                  [4]),\n",
       "                                                 (&#x27;onehotencolding2&#x27;,\n",
       "                                                  OneHotEncoder(), [5, 6])])),\n",
       "                (&#x27;bins&#x27;,\n",
       "                 ColumnTransformer(remainder=&#x27;passthrough&#x27;,\n",
       "                                   transformers=[(&#x27;Kbins&#x27;,\n",
       "                                                  KBinsDiscretizer(encode=&#x27;ordinal&#x27;,\n",
       "                                                                   n_bins=15),\n",
       "                                                  [0, 2])])),\n",
       "                (&#x27;classifier&#x27;,\n",
       "                 RandomForestClassifier(max_depth=7, min_samples_leaf=6,\n",
       "                                        min_samples_split=6, n_estimators=1750,\n",
       "                                        n_jobs=-1, oob_score=True,\n",
       "                                        random_state=42, verbose=1))])</pre></div></div></div><div class=\"sk-serial\"><div class=\"sk-item sk-dashed-wrapped\"><div class=\"sk-label-container\"><div class=\"sk-label sk-toggleable\"><input class=\"sk-toggleable__control sk-hidden--visually\" id=\"sk-estimator-id-2\" type=\"checkbox\" ><label for=\"sk-estimator-id-2\" class=\"sk-toggleable__label sk-toggleable__label-arrow\">num_cat_transformation: ColumnTransformer</label><div class=\"sk-toggleable__content\"><pre>ColumnTransformer(remainder=&#x27;passthrough&#x27;,\n",
       "                  transformers=[(&#x27;scaling&#x27;, MinMaxScaler(), [0, 2]),\n",
       "                                (&#x27;onehotencolding1&#x27;, OneHotEncoder(), [1, 3]),\n",
       "                                (&#x27;ordinal&#x27;, OrdinalEncoder(), [4]),\n",
       "                                (&#x27;onehotencolding2&#x27;, OneHotEncoder(), [5, 6])])</pre></div></div></div><div class=\"sk-parallel\"><div class=\"sk-parallel-item\"><div class=\"sk-item\"><div class=\"sk-label-container\"><div class=\"sk-label sk-toggleable\"><input class=\"sk-toggleable__control sk-hidden--visually\" id=\"sk-estimator-id-3\" type=\"checkbox\" ><label for=\"sk-estimator-id-3\" class=\"sk-toggleable__label sk-toggleable__label-arrow\">scaling</label><div class=\"sk-toggleable__content\"><pre>[0, 2]</pre></div></div></div><div class=\"sk-serial\"><div class=\"sk-item\"><div class=\"sk-estimator sk-toggleable\"><input class=\"sk-toggleable__control sk-hidden--visually\" id=\"sk-estimator-id-4\" type=\"checkbox\" ><label for=\"sk-estimator-id-4\" class=\"sk-toggleable__label sk-toggleable__label-arrow\">MinMaxScaler</label><div class=\"sk-toggleable__content\"><pre>MinMaxScaler()</pre></div></div></div></div></div></div><div class=\"sk-parallel-item\"><div class=\"sk-item\"><div class=\"sk-label-container\"><div class=\"sk-label sk-toggleable\"><input class=\"sk-toggleable__control sk-hidden--visually\" id=\"sk-estimator-id-5\" type=\"checkbox\" ><label for=\"sk-estimator-id-5\" class=\"sk-toggleable__label sk-toggleable__label-arrow\">onehotencolding1</label><div class=\"sk-toggleable__content\"><pre>[1, 3]</pre></div></div></div><div class=\"sk-serial\"><div class=\"sk-item\"><div class=\"sk-estimator sk-toggleable\"><input class=\"sk-toggleable__control sk-hidden--visually\" id=\"sk-estimator-id-6\" type=\"checkbox\" ><label for=\"sk-estimator-id-6\" class=\"sk-toggleable__label sk-toggleable__label-arrow\">OneHotEncoder</label><div class=\"sk-toggleable__content\"><pre>OneHotEncoder()</pre></div></div></div></div></div></div><div class=\"sk-parallel-item\"><div class=\"sk-item\"><div class=\"sk-label-container\"><div class=\"sk-label sk-toggleable\"><input class=\"sk-toggleable__control sk-hidden--visually\" id=\"sk-estimator-id-7\" type=\"checkbox\" ><label for=\"sk-estimator-id-7\" class=\"sk-toggleable__label sk-toggleable__label-arrow\">ordinal</label><div class=\"sk-toggleable__content\"><pre>[4]</pre></div></div></div><div class=\"sk-serial\"><div class=\"sk-item\"><div class=\"sk-estimator sk-toggleable\"><input class=\"sk-toggleable__control sk-hidden--visually\" id=\"sk-estimator-id-8\" type=\"checkbox\" ><label for=\"sk-estimator-id-8\" class=\"sk-toggleable__label sk-toggleable__label-arrow\">OrdinalEncoder</label><div class=\"sk-toggleable__content\"><pre>OrdinalEncoder()</pre></div></div></div></div></div></div><div class=\"sk-parallel-item\"><div class=\"sk-item\"><div class=\"sk-label-container\"><div class=\"sk-label sk-toggleable\"><input class=\"sk-toggleable__control sk-hidden--visually\" id=\"sk-estimator-id-9\" type=\"checkbox\" ><label for=\"sk-estimator-id-9\" class=\"sk-toggleable__label sk-toggleable__label-arrow\">onehotencolding2</label><div class=\"sk-toggleable__content\"><pre>[5, 6]</pre></div></div></div><div class=\"sk-serial\"><div class=\"sk-item\"><div class=\"sk-estimator sk-toggleable\"><input class=\"sk-toggleable__control sk-hidden--visually\" id=\"sk-estimator-id-10\" type=\"checkbox\" ><label for=\"sk-estimator-id-10\" class=\"sk-toggleable__label sk-toggleable__label-arrow\">OneHotEncoder</label><div class=\"sk-toggleable__content\"><pre>OneHotEncoder()</pre></div></div></div></div></div></div><div class=\"sk-parallel-item\"><div class=\"sk-item\"><div class=\"sk-label-container\"><div class=\"sk-label sk-toggleable\"><input class=\"sk-toggleable__control sk-hidden--visually\" id=\"sk-estimator-id-11\" type=\"checkbox\" ><label for=\"sk-estimator-id-11\" class=\"sk-toggleable__label sk-toggleable__label-arrow\">remainder</label><div class=\"sk-toggleable__content\"><pre>[]</pre></div></div></div><div class=\"sk-serial\"><div class=\"sk-item\"><div class=\"sk-estimator sk-toggleable\"><input class=\"sk-toggleable__control sk-hidden--visually\" id=\"sk-estimator-id-12\" type=\"checkbox\" ><label for=\"sk-estimator-id-12\" class=\"sk-toggleable__label sk-toggleable__label-arrow\">passthrough</label><div class=\"sk-toggleable__content\"><pre>passthrough</pre></div></div></div></div></div></div></div></div><div class=\"sk-item sk-dashed-wrapped\"><div class=\"sk-label-container\"><div class=\"sk-label sk-toggleable\"><input class=\"sk-toggleable__control sk-hidden--visually\" id=\"sk-estimator-id-13\" type=\"checkbox\" ><label for=\"sk-estimator-id-13\" class=\"sk-toggleable__label sk-toggleable__label-arrow\">bins: ColumnTransformer</label><div class=\"sk-toggleable__content\"><pre>ColumnTransformer(remainder=&#x27;passthrough&#x27;,\n",
       "                  transformers=[(&#x27;Kbins&#x27;,\n",
       "                                 KBinsDiscretizer(encode=&#x27;ordinal&#x27;, n_bins=15),\n",
       "                                 [0, 2])])</pre></div></div></div><div class=\"sk-parallel\"><div class=\"sk-parallel-item\"><div class=\"sk-item\"><div class=\"sk-label-container\"><div class=\"sk-label sk-toggleable\"><input class=\"sk-toggleable__control sk-hidden--visually\" id=\"sk-estimator-id-14\" type=\"checkbox\" ><label for=\"sk-estimator-id-14\" class=\"sk-toggleable__label sk-toggleable__label-arrow\">Kbins</label><div class=\"sk-toggleable__content\"><pre>[0, 2]</pre></div></div></div><div class=\"sk-serial\"><div class=\"sk-item\"><div class=\"sk-estimator sk-toggleable\"><input class=\"sk-toggleable__control sk-hidden--visually\" id=\"sk-estimator-id-15\" type=\"checkbox\" ><label for=\"sk-estimator-id-15\" class=\"sk-toggleable__label sk-toggleable__label-arrow\">KBinsDiscretizer</label><div class=\"sk-toggleable__content\"><pre>KBinsDiscretizer(encode=&#x27;ordinal&#x27;, n_bins=15)</pre></div></div></div></div></div></div><div class=\"sk-parallel-item\"><div class=\"sk-item\"><div class=\"sk-label-container\"><div class=\"sk-label sk-toggleable\"><input class=\"sk-toggleable__control sk-hidden--visually\" id=\"sk-estimator-id-16\" type=\"checkbox\" ><label for=\"sk-estimator-id-16\" class=\"sk-toggleable__label sk-toggleable__label-arrow\">remainder</label><div class=\"sk-toggleable__content\"><pre>[1, 3, 4, 5, 6, 7, 8, 9, 10, 11, 12, 13, 14, 15, 16]</pre></div></div></div><div class=\"sk-serial\"><div class=\"sk-item\"><div class=\"sk-estimator sk-toggleable\"><input class=\"sk-toggleable__control sk-hidden--visually\" id=\"sk-estimator-id-17\" type=\"checkbox\" ><label for=\"sk-estimator-id-17\" class=\"sk-toggleable__label sk-toggleable__label-arrow\">passthrough</label><div class=\"sk-toggleable__content\"><pre>passthrough</pre></div></div></div></div></div></div></div></div><div class=\"sk-item\"><div class=\"sk-estimator sk-toggleable\"><input class=\"sk-toggleable__control sk-hidden--visually\" id=\"sk-estimator-id-18\" type=\"checkbox\" ><label for=\"sk-estimator-id-18\" class=\"sk-toggleable__label sk-toggleable__label-arrow\">RandomForestClassifier</label><div class=\"sk-toggleable__content\"><pre>RandomForestClassifier(max_depth=7, min_samples_leaf=6, min_samples_split=6,\n",
       "                       n_estimators=1750, n_jobs=-1, oob_score=True,\n",
       "                       random_state=42, verbose=1)</pre></div></div></div></div></div></div></div>"
      ],
      "text/plain": [
       "Pipeline(steps=[('num_cat_transformation',\n",
       "                 ColumnTransformer(remainder='passthrough',\n",
       "                                   transformers=[('scaling', MinMaxScaler(),\n",
       "                                                  [0, 2]),\n",
       "                                                 ('onehotencolding1',\n",
       "                                                  OneHotEncoder(), [1, 3]),\n",
       "                                                 ('ordinal', OrdinalEncoder(),\n",
       "                                                  [4]),\n",
       "                                                 ('onehotencolding2',\n",
       "                                                  OneHotEncoder(), [5, 6])])),\n",
       "                ('bins',\n",
       "                 ColumnTransformer(remainder='passthrough',\n",
       "                                   transformers=[('Kbins',\n",
       "                                                  KBinsDiscretizer(encode='ordinal',\n",
       "                                                                   n_bins=15),\n",
       "                                                  [0, 2])])),\n",
       "                ('classifier',\n",
       "                 RandomForestClassifier(max_depth=7, min_samples_leaf=6,\n",
       "                                        min_samples_split=6, n_estimators=1750,\n",
       "                                        n_jobs=-1, oob_score=True,\n",
       "                                        random_state=42, verbose=1))])"
      ]
     },
     "execution_count": 67,
     "metadata": {},
     "output_type": "execute_result"
    }
   ],
   "source": [
    "pipe1.fit(X_train,y_train)"
   ]
  },
  {
   "cell_type": "code",
   "execution_count": 68,
   "id": "e3d0d1a3",
   "metadata": {
    "execution": {
     "iopub.execute_input": "2025-03-30T16:24:31.290688Z",
     "iopub.status.busy": "2025-03-30T16:24:31.290325Z",
     "iopub.status.idle": "2025-03-30T16:24:31.828539Z",
     "shell.execute_reply": "2025-03-30T16:24:31.827238Z"
    },
    "papermill": {
     "duration": 0.572114,
     "end_time": "2025-03-30T16:24:31.830593",
     "exception": false,
     "start_time": "2025-03-30T16:24:31.258479",
     "status": "completed"
    },
    "tags": []
   },
   "outputs": [
    {
     "name": "stderr",
     "output_type": "stream",
     "text": [
      "[Parallel(n_jobs=20)]: Using backend ThreadingBackend with 20 concurrent workers.\n",
      "[Parallel(n_jobs=20)]: Done  10 tasks      | elapsed:    0.0s\n",
      "[Parallel(n_jobs=20)]: Done 160 tasks      | elapsed:    0.0s\n",
      "[Parallel(n_jobs=20)]: Done 410 tasks      | elapsed:    0.0s\n",
      "[Parallel(n_jobs=20)]: Done 760 tasks      | elapsed:    0.0s\n",
      "[Parallel(n_jobs=20)]: Done 1210 tasks      | elapsed:    0.1s\n",
      "[Parallel(n_jobs=20)]: Done 1750 out of 1750 | elapsed:    0.1s finished\n"
     ]
    },
    {
     "data": {
      "text/plain": [
       "0.8659217877094972"
      ]
     },
     "execution_count": 68,
     "metadata": {},
     "output_type": "execute_result"
    }
   ],
   "source": [
    "y_pred = pipe1.predict(X_test)\n",
    "accuracy_score(y_test,y_pred)\n"
   ]
  }
 ],
 "metadata": {
  "kaggle": {
   "accelerator": "none",
   "dataSources": [
    {
     "databundleVersionId": 26502,
     "sourceId": 3136,
     "sourceType": "competition"
    },
    {
     "datasetId": 340,
     "sourceId": 721,
     "sourceType": "datasetVersion"
    },
    {
     "datasetId": 1275,
     "sourceId": 2286,
     "sourceType": "datasetVersion"
    },
    {
     "datasetId": 1355,
     "sourceId": 2445,
     "sourceType": "datasetVersion"
    },
    {
     "datasetId": 3064,
     "sourceId": 5101,
     "sourceType": "datasetVersion"
    },
    {
     "datasetId": 11349,
     "sourceId": 15725,
     "sourceType": "datasetVersion"
    },
    {
     "datasetId": 11657,
     "sourceId": 16098,
     "sourceType": "datasetVersion"
    },
    {
     "datasetId": 15989,
     "sourceId": 21106,
     "sourceType": "datasetVersion"
    },
    {
     "datasetId": 80599,
     "sourceId": 187274,
     "sourceType": "datasetVersion"
    },
    {
     "datasetId": 122398,
     "sourceId": 315766,
     "sourceType": "datasetVersion"
    },
    {
     "datasetId": 348873,
     "sourceId": 687897,
     "sourceType": "datasetVersion"
    },
    {
     "datasetId": 465127,
     "sourceId": 873754,
     "sourceType": "datasetVersion"
    },
    {
     "datasetId": 827866,
     "sourceId": 1935717,
     "sourceType": "datasetVersion"
    },
    {
     "datasetId": 826163,
     "sourceId": 2879186,
     "sourceType": "datasetVersion"
    },
    {
     "datasetId": 1818188,
     "sourceId": 2965537,
     "sourceType": "datasetVersion"
    },
    {
     "datasetId": 1893363,
     "sourceId": 3100063,
     "sourceType": "datasetVersion"
    },
    {
     "datasetId": 2209271,
     "sourceId": 3691974,
     "sourceType": "datasetVersion"
    },
    {
     "datasetId": 4053175,
     "sourceId": 7044109,
     "sourceType": "datasetVersion"
    },
    {
     "datasetId": 4232122,
     "sourceId": 7296258,
     "sourceType": "datasetVersion"
    },
    {
     "datasetId": 4329630,
     "sourceId": 7439065,
     "sourceType": "datasetVersion"
    },
    {
     "datasetId": 4332331,
     "sourceId": 7720855,
     "sourceType": "datasetVersion"
    },
    {
     "datasetId": 4545417,
     "sourceId": 7769911,
     "sourceType": "datasetVersion"
    },
    {
     "datasetId": 4681778,
     "sourceId": 8275175,
     "sourceType": "datasetVersion"
    },
    {
     "datasetId": 4928037,
     "sourceId": 8296201,
     "sourceType": "datasetVersion"
    },
    {
     "datasetId": 4395274,
     "sourceId": 7546961,
     "sourceType": "datasetVersion"
    }
   ],
   "dockerImageVersionId": 30732,
   "isGpuEnabled": false,
   "isInternetEnabled": true,
   "language": "python",
   "sourceType": "notebook"
  },
  "kernelspec": {
   "display_name": "base",
   "language": "python",
   "name": "python3"
  },
  "language_info": {
   "codemirror_mode": {
    "name": "ipython",
    "version": 3
   },
   "file_extension": ".py",
   "mimetype": "text/x-python",
   "name": "python",
   "nbconvert_exporter": "python",
   "pygments_lexer": "ipython3",
   "version": "3.11.5"
  },
  "papermill": {
   "default_parameters": {},
   "duration": 39.975359,
   "end_time": "2025-03-30T16:24:33.622055",
   "environment_variables": {},
   "exception": null,
   "input_path": "__notebook__.ipynb",
   "output_path": "__notebook__.ipynb",
   "parameters": {},
   "start_time": "2025-03-30T16:23:53.646696",
   "version": "2.5.0"
  }
 },
 "nbformat": 4,
 "nbformat_minor": 5
}
